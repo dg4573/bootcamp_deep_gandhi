{
 "cells": [
  {
   "cell_type": "markdown",
   "id": "b330e8c9-6fde-4492-bc93-68f1e1f87310",
   "metadata": {},
   "source": [
    "# **Environment & Config Check**"
   ]
  },
  {
   "cell_type": "code",
   "execution_count": 3,
   "id": "81e4c9bd-b94d-47f9-9a61-5036f1d7becb",
   "metadata": {},
   "outputs": [
    {
     "name": "stdout",
     "output_type": "stream",
     "text": [
      ".env loaded let's go!\n"
     ]
    }
   ],
   "source": [
    "import numpy as np\n",
    "from dotenv import load_dotenv\n",
    "\n",
    "from pathlib import Path\n",
    "load_dotenv()  \n",
    "print(\".env loaded let's go!\")"
   ]
  },
  {
   "cell_type": "code",
   "execution_count": null,
   "id": "379924d6-8a96-4d74-9918-93cb9b76700f",
   "metadata": {},
   "outputs": [],
   "source": []
  }
 ],
 "metadata": {
  "kernelspec": {
   "display_name": "Python 3 (ipykernel)",
   "language": "python",
   "name": "python3"
  },
  "language_info": {
   "codemirror_mode": {
    "name": "ipython",
    "version": 3
   },
   "file_extension": ".py",
   "mimetype": "text/x-python",
   "name": "python",
   "nbconvert_exporter": "python",
   "pygments_lexer": "ipython3",
   "version": "3.11.13"
  }
 },
 "nbformat": 4,
 "nbformat_minor": 5
}
