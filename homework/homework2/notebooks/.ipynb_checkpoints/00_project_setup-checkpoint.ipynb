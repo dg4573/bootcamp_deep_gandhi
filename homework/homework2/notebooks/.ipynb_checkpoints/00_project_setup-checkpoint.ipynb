{
 "cells": [
  {
   "cell_type": "markdown",
   "id": "b330e8c9-6fde-4492-bc93-68f1e1f87310",
   "metadata": {},
   "source": [
    "# **Environment & Config Check**"
   ]
  },
  {
   "cell_type": "code",
   "execution_count": 1,
   "id": "81e4c9bd-b94d-47f9-9a61-5036f1d7becb",
   "metadata": {},
   "outputs": [
    {
     "name": "stdout",
     "output_type": "stream",
     "text": [
      ".env loaded let's go!\n"
     ]
    }
   ],
   "source": [
    "import numpy as np\n",
    "from dotenv import load_dotenv\n",
    "\n",
    "from pathlib import Path\n",
    "load_dotenv()  \n",
    "print(\".env loaded let's go!\")"
   ]
  },
  {
   "cell_type": "markdown",
   "id": "36313466-975a-4ab6-aea9-22bb58c24ec8",
   "metadata": {},
   "source": [
    "### Numpy Operations & Usage"
   ]
  },
  {
   "cell_type": "code",
   "execution_count": 6,
   "id": "8e4ab72c-84df-41da-aad8-ee0495930c25",
   "metadata": {},
   "outputs": [
    {
     "name": "stdout",
     "output_type": "stream",
     "text": [
      "Mean of array: 7.375\n",
      "Standard Deviation of array: 6.362733296312206\n",
      "2D Array of zeros: [[0. 0. 0.]\n",
      " [0. 0. 0.]]\n",
      "Sequence withtin given range: [0 2 4 6 8]\n"
     ]
    }
   ],
   "source": [
    "arr = np.array([1,1,3,5,7,8,13,21])\n",
    "print(f\"Mean of array: {arr.mean()}\")\n",
    "print(f\"Standard Deviation of array: {arr.std()}\")\n",
    "\n",
    "zeros = np.zeros((2,3)) \n",
    "print(f\"2D Array of zeros: {zeros}\")\n",
    "\n",
    "arrange = np.arange(0,10,2)\n",
    "print(f\"Sequence withtin given range: {arrange}\")"
   ]
  }
 ],
 "metadata": {
  "kernelspec": {
   "display_name": "Python 3 (ipykernel)",
   "language": "python",
   "name": "python3"
  },
  "language_info": {
   "codemirror_mode": {
    "name": "ipython",
    "version": 3
   },
   "file_extension": ".py",
   "mimetype": "text/x-python",
   "name": "python",
   "nbconvert_exporter": "python",
   "pygments_lexer": "ipython3",
   "version": "3.11.13"
  }
 },
 "nbformat": 4,
 "nbformat_minor": 5
}
