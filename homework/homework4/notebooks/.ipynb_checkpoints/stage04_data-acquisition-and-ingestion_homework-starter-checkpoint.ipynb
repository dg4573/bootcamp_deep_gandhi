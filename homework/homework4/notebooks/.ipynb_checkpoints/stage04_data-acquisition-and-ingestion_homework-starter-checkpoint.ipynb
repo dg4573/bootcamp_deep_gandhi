{
 "cells": [
  {
   "cell_type": "markdown",
   "id": "47a1f4e5-57a0-475c-86d4-ecfce214d8b3",
   "metadata": {},
   "source": [
    "### Extracting `API_KEY` from `.env`"
   ]
  },
  {
   "cell_type": "code",
   "execution_count": 1,
   "id": "7a57bde1-3a0d-4e3e-a57e-a1ba688fba4b",
   "metadata": {},
   "outputs": [
    {
     "name": "stdout",
     "output_type": "stream",
     "text": [
      "API KEY loaded!\n"
     ]
    }
   ],
   "source": [
    "import numpy as np\n",
    "from dotenv import load_dotenv\n",
    "from pathlib import Path\n",
    "import os\n",
    "import requests\n",
    "import pandas as pd\n",
    "import numpy as np\n",
    "from pathlib import Path\n",
    "\n",
    "load_dotenv()  \n",
    "API_KEY = os.getenv(\"API_KEY\") \n",
    "\n",
    "if API_KEY is not None:\n",
    "    print(\"API KEY loaded!\")"
   ]
  },
  {
   "cell_type": "markdown",
   "id": "dda75bdf-198c-42a9-bb6b-a6a63febeee5",
   "metadata": {},
   "source": [
    "### Helper Function(s)"
   ]
  },
  {
   "cell_type": "code",
   "execution_count": 22,
   "id": "50c1063f-5880-4ff4-98b5-7b82fc3f7f57",
   "metadata": {},
   "outputs": [],
   "source": [
    "def set_homework4_dir():\n",
    "    \"\"\"\n",
    "    Sets the working directory to the homework4 folder.\n",
    "    \"\"\"\n",
    "    path = r\"C:\\Users\\Lenovo\\Jupyter Notebooks\\Bootcamp\\bootcamp_deep_gandhi\\homework\\homework4\"\n",
    "    os.chdir(path)\n",
    "    print(f\"Working directory set to: {os.getcwd()}\")"
   ]
  },
  {
   "cell_type": "markdown",
   "id": "b661b371-b970-46f6-973a-bc18661ad143",
   "metadata": {},
   "source": [
    "# **API PULL**\n",
    "- API Provider: Alpha Vantage\n",
    "- Data Type: Historical Options Data\n",
    "- No Missing Values (Checked with `df.isna().sum().sum()`)\n",
    "- Changed all columns to appropriate data types"
   ]
  },
  {
   "cell_type": "code",
   "execution_count": 2,
   "id": "afdd6656-d464-4e4b-92ff-7026e4d68250",
   "metadata": {},
   "outputs": [
    {
     "name": "stdout",
     "output_type": "stream",
     "text": [
      "{'contractID': 'IBM250815C00140000', 'symbol': 'IBM', 'expiration': '2025-08-15', 'strike': '140.00', 'type': 'call', 'last': '112.05', 'mark': '99.70', 'bid': '99.30', 'bid_size': '6', 'ask': '100.10', 'ask_size': '6', 'volume': '0', 'open_interest': '3', 'date': '2025-08-15', 'implied_volatility': '0.01976', 'delta': '1.00000', 'gamma': '0.00000', 'theta': '-0.01661', 'vega': '0.00000', 'rho': '0.00384'}\n"
     ]
    }
   ],
   "source": [
    "url = f'https://www.alphavantage.co/query?function=HISTORICAL_OPTIONS&symbol=IBM&apikey={API_KEY}'\n",
    "r = requests.get(url)\n",
    "data = r.json()\n",
    "data = data['data']\n",
    "print(data[0])"
   ]
  },
  {
   "cell_type": "code",
   "execution_count": 73,
   "id": "11c7746a-4c37-45f5-8d1c-35ece907cc11",
   "metadata": {},
   "outputs": [
    {
     "data": {
      "text/html": [
       "<div>\n",
       "<style scoped>\n",
       "    .dataframe tbody tr th:only-of-type {\n",
       "        vertical-align: middle;\n",
       "    }\n",
       "\n",
       "    .dataframe tbody tr th {\n",
       "        vertical-align: top;\n",
       "    }\n",
       "\n",
       "    .dataframe thead th {\n",
       "        text-align: right;\n",
       "    }\n",
       "</style>\n",
       "<table border=\"1\" class=\"dataframe\">\n",
       "  <thead>\n",
       "    <tr style=\"text-align: right;\">\n",
       "      <th></th>\n",
       "      <th>contractID</th>\n",
       "      <th>symbol</th>\n",
       "      <th>expiration</th>\n",
       "      <th>strike</th>\n",
       "      <th>type</th>\n",
       "      <th>last</th>\n",
       "      <th>mark</th>\n",
       "      <th>bid</th>\n",
       "      <th>bid_size</th>\n",
       "      <th>ask</th>\n",
       "      <th>ask_size</th>\n",
       "      <th>volume</th>\n",
       "      <th>open_interest</th>\n",
       "      <th>date</th>\n",
       "      <th>implied_volatility</th>\n",
       "      <th>delta</th>\n",
       "      <th>gamma</th>\n",
       "      <th>theta</th>\n",
       "      <th>vega</th>\n",
       "      <th>rho</th>\n",
       "    </tr>\n",
       "  </thead>\n",
       "  <tbody>\n",
       "    <tr>\n",
       "      <th>0</th>\n",
       "      <td>IBM250815C00140000</td>\n",
       "      <td>IBM</td>\n",
       "      <td>2025-08-15</td>\n",
       "      <td>140.00</td>\n",
       "      <td>call</td>\n",
       "      <td>112.05</td>\n",
       "      <td>99.70</td>\n",
       "      <td>99.30</td>\n",
       "      <td>6</td>\n",
       "      <td>100.10</td>\n",
       "      <td>6</td>\n",
       "      <td>0</td>\n",
       "      <td>3</td>\n",
       "      <td>2025-08-15</td>\n",
       "      <td>0.01976</td>\n",
       "      <td>1.00000</td>\n",
       "      <td>0.00000</td>\n",
       "      <td>-0.01661</td>\n",
       "      <td>0.00000</td>\n",
       "      <td>0.00384</td>\n",
       "    </tr>\n",
       "    <tr>\n",
       "      <th>1</th>\n",
       "      <td>IBM250815P00140000</td>\n",
       "      <td>IBM</td>\n",
       "      <td>2025-08-15</td>\n",
       "      <td>140.00</td>\n",
       "      <td>put</td>\n",
       "      <td>0.03</td>\n",
       "      <td>0.01</td>\n",
       "      <td>0.00</td>\n",
       "      <td>0</td>\n",
       "      <td>0.03</td>\n",
       "      <td>10</td>\n",
       "      <td>1</td>\n",
       "      <td>209</td>\n",
       "      <td>2025-08-15</td>\n",
       "      <td>3.35626</td>\n",
       "      <td>-0.00082</td>\n",
       "      <td>0.00007</td>\n",
       "      <td>-0.05881</td>\n",
       "      <td>0.00035</td>\n",
       "      <td>-0.00001</td>\n",
       "    </tr>\n",
       "    <tr>\n",
       "      <th>2</th>\n",
       "      <td>IBM250815C00145000</td>\n",
       "      <td>IBM</td>\n",
       "      <td>2025-08-15</td>\n",
       "      <td>145.00</td>\n",
       "      <td>call</td>\n",
       "      <td>0.00</td>\n",
       "      <td>94.70</td>\n",
       "      <td>94.30</td>\n",
       "      <td>6</td>\n",
       "      <td>95.10</td>\n",
       "      <td>6</td>\n",
       "      <td>0</td>\n",
       "      <td>0</td>\n",
       "      <td>2025-08-15</td>\n",
       "      <td>0.01976</td>\n",
       "      <td>1.00000</td>\n",
       "      <td>0.00000</td>\n",
       "      <td>-0.01720</td>\n",
       "      <td>0.00000</td>\n",
       "      <td>0.00397</td>\n",
       "    </tr>\n",
       "    <tr>\n",
       "      <th>3</th>\n",
       "      <td>IBM250815P00145000</td>\n",
       "      <td>IBM</td>\n",
       "      <td>2025-08-15</td>\n",
       "      <td>145.00</td>\n",
       "      <td>put</td>\n",
       "      <td>0.15</td>\n",
       "      <td>0.01</td>\n",
       "      <td>0.00</td>\n",
       "      <td>0</td>\n",
       "      <td>2.02</td>\n",
       "      <td>9</td>\n",
       "      <td>1</td>\n",
       "      <td>1</td>\n",
       "      <td>2025-08-15</td>\n",
       "      <td>3.16114</td>\n",
       "      <td>-0.00090</td>\n",
       "      <td>0.00008</td>\n",
       "      <td>-0.06051</td>\n",
       "      <td>0.00038</td>\n",
       "      <td>-0.00001</td>\n",
       "    </tr>\n",
       "    <tr>\n",
       "      <th>4</th>\n",
       "      <td>IBM250815C00150000</td>\n",
       "      <td>IBM</td>\n",
       "      <td>2025-08-15</td>\n",
       "      <td>150.00</td>\n",
       "      <td>call</td>\n",
       "      <td>102.25</td>\n",
       "      <td>89.70</td>\n",
       "      <td>89.35</td>\n",
       "      <td>6</td>\n",
       "      <td>90.05</td>\n",
       "      <td>6</td>\n",
       "      <td>0</td>\n",
       "      <td>0</td>\n",
       "      <td>2025-08-15</td>\n",
       "      <td>0.01976</td>\n",
       "      <td>1.00000</td>\n",
       "      <td>0.00000</td>\n",
       "      <td>-0.01779</td>\n",
       "      <td>0.00000</td>\n",
       "      <td>0.00411</td>\n",
       "    </tr>\n",
       "  </tbody>\n",
       "</table>\n",
       "</div>"
      ],
      "text/plain": [
       "           contractID symbol  expiration  strike  type    last   mark    bid  \\\n",
       "0  IBM250815C00140000    IBM  2025-08-15  140.00  call  112.05  99.70  99.30   \n",
       "1  IBM250815P00140000    IBM  2025-08-15  140.00   put    0.03   0.01   0.00   \n",
       "2  IBM250815C00145000    IBM  2025-08-15  145.00  call    0.00  94.70  94.30   \n",
       "3  IBM250815P00145000    IBM  2025-08-15  145.00   put    0.15   0.01   0.00   \n",
       "4  IBM250815C00150000    IBM  2025-08-15  150.00  call  102.25  89.70  89.35   \n",
       "\n",
       "  bid_size     ask ask_size volume open_interest        date  \\\n",
       "0        6  100.10        6      0             3  2025-08-15   \n",
       "1        0    0.03       10      1           209  2025-08-15   \n",
       "2        6   95.10        6      0             0  2025-08-15   \n",
       "3        0    2.02        9      1             1  2025-08-15   \n",
       "4        6   90.05        6      0             0  2025-08-15   \n",
       "\n",
       "  implied_volatility     delta    gamma     theta     vega       rho  \n",
       "0            0.01976   1.00000  0.00000  -0.01661  0.00000   0.00384  \n",
       "1            3.35626  -0.00082  0.00007  -0.05881  0.00035  -0.00001  \n",
       "2            0.01976   1.00000  0.00000  -0.01720  0.00000   0.00397  \n",
       "3            3.16114  -0.00090  0.00008  -0.06051  0.00038  -0.00001  \n",
       "4            0.01976   1.00000  0.00000  -0.01779  0.00000   0.00411  "
      ]
     },
     "execution_count": 73,
     "metadata": {},
     "output_type": "execute_result"
    }
   ],
   "source": [
    "df = pd.DataFrame(data)\n",
    "df.head()"
   ]
  },
  {
   "cell_type": "code",
   "execution_count": 74,
   "id": "3816f291-c821-472e-bfeb-b309852972e3",
   "metadata": {},
   "outputs": [
    {
     "name": "stdout",
     "output_type": "stream",
     "text": [
      "<class 'pandas.core.frame.DataFrame'>\n",
      "RangeIndex: 1710 entries, 0 to 1709\n",
      "Data columns (total 20 columns):\n",
      " #   Column              Non-Null Count  Dtype \n",
      "---  ------              --------------  ----- \n",
      " 0   contractID          1710 non-null   object\n",
      " 1   symbol              1710 non-null   object\n",
      " 2   expiration          1710 non-null   object\n",
      " 3   strike              1710 non-null   object\n",
      " 4   type                1710 non-null   object\n",
      " 5   last                1710 non-null   object\n",
      " 6   mark                1710 non-null   object\n",
      " 7   bid                 1710 non-null   object\n",
      " 8   bid_size            1710 non-null   object\n",
      " 9   ask                 1710 non-null   object\n",
      " 10  ask_size            1710 non-null   object\n",
      " 11  volume              1710 non-null   object\n",
      " 12  open_interest       1710 non-null   object\n",
      " 13  date                1710 non-null   object\n",
      " 14  implied_volatility  1710 non-null   object\n",
      " 15  delta               1710 non-null   object\n",
      " 16  gamma               1710 non-null   object\n",
      " 17  theta               1710 non-null   object\n",
      " 18  vega                1710 non-null   object\n",
      " 19  rho                 1710 non-null   object\n",
      "dtypes: object(20)\n",
      "memory usage: 267.3+ KB\n"
     ]
    }
   ],
   "source": [
    "df.info()"
   ]
  },
  {
   "cell_type": "code",
   "execution_count": 75,
   "id": "bef0a5c7-ee40-4cc5-88b6-57e3df9b24c5",
   "metadata": {},
   "outputs": [
    {
     "name": "stdout",
     "output_type": "stream",
     "text": [
      "No Missing Values!\n"
     ]
    }
   ],
   "source": [
    "if df.isna().sum().sum() == 0:\n",
    "    print(\"No Missing Values!\")\n",
    "else:\n",
    "    print(f\"{df.isna().sum().sum()} Missing Values Found!\")"
   ]
  },
  {
   "cell_type": "code",
   "execution_count": 85,
   "id": "68f4fb4e-85f3-494d-8b07-e2ca761594c1",
   "metadata": {},
   "outputs": [
    {
     "name": "stdout",
     "output_type": "stream",
     "text": [
      "Shape of df: (1710, 20)\n",
      "Columns: ['contractID', 'symbol', 'expiration', 'strike', 'type', 'last', 'mark', 'bid', 'bid_size', 'ask', 'ask_size', 'volume', 'open_interest', 'date', 'implied_volatility', 'delta', 'gamma', 'theta', 'vega', 'rho']\n"
     ]
    }
   ],
   "source": [
    "print(f\"Shape of df: {df.shape}\")\n",
    "print(f\"Columns: {[i for i in df.columns]}\")"
   ]
  },
  {
   "cell_type": "markdown",
   "id": "49b94b53-d014-4570-88ca-f166e7aa20eb",
   "metadata": {},
   "source": [
    "### Changing columns to appropriate data types"
   ]
  },
  {
   "cell_type": "code",
   "execution_count": 81,
   "id": "4fe594d7-144c-4f53-b500-2a6d5e5668cb",
   "metadata": {},
   "outputs": [],
   "source": [
    "df[\"expiration\"] = pd.to_datetime(df[\"expiration\"])\n",
    "df[\"date\"] = pd.to_datetime(df[\"date\"])\n",
    "\n",
    "num_cols = [\"strike\", \"last\", \"mark\", \"bid\", \"bid_size\", \"ask\", \"ask_size\",\n",
    "    \"volume\", \"open_interest\", \"implied_volatility\", \"delta\",\n",
    "    \"gamma\", \"theta\", \"vega\", \"rho\"]\n",
    "\n",
    "df[num_cols] = df[num_cols].apply(pd.to_numeric, errors=\"coerce\")"
   ]
  },
  {
   "cell_type": "code",
   "execution_count": 79,
   "id": "4cf951ea-84b3-4dbf-987a-66b648d84dbb",
   "metadata": {},
   "outputs": [
    {
     "name": "stdout",
     "output_type": "stream",
     "text": [
      "<class 'pandas.core.frame.DataFrame'>\n",
      "RangeIndex: 1710 entries, 0 to 1709\n",
      "Data columns (total 20 columns):\n",
      " #   Column              Non-Null Count  Dtype         \n",
      "---  ------              --------------  -----         \n",
      " 0   contractID          1710 non-null   object        \n",
      " 1   symbol              1710 non-null   object        \n",
      " 2   expiration          1710 non-null   datetime64[ns]\n",
      " 3   strike              1710 non-null   float64       \n",
      " 4   type                1710 non-null   object        \n",
      " 5   last                1710 non-null   float64       \n",
      " 6   mark                1710 non-null   float64       \n",
      " 7   bid                 1710 non-null   float64       \n",
      " 8   bid_size            1710 non-null   int64         \n",
      " 9   ask                 1710 non-null   float64       \n",
      " 10  ask_size            1710 non-null   int64         \n",
      " 11  volume              1710 non-null   int64         \n",
      " 12  open_interest       1710 non-null   int64         \n",
      " 13  date                1710 non-null   datetime64[ns]\n",
      " 14  implied_volatility  1710 non-null   float64       \n",
      " 15  delta               1710 non-null   float64       \n",
      " 16  gamma               1710 non-null   float64       \n",
      " 17  theta               1710 non-null   float64       \n",
      " 18  vega                1710 non-null   float64       \n",
      " 19  rho                 1710 non-null   float64       \n",
      "dtypes: datetime64[ns](2), float64(11), int64(4), object(3)\n",
      "memory usage: 267.3+ KB\n"
     ]
    }
   ],
   "source": [
    "df.info()"
   ]
  },
  {
   "cell_type": "code",
   "execution_count": 26,
   "id": "d5f6ec7f-fdfc-44cf-b10a-e881771fa350",
   "metadata": {},
   "outputs": [
    {
     "name": "stdout",
     "output_type": "stream",
     "text": [
      "Working directory set to: C:\\Users\\Lenovo\\Jupyter Notebooks\\Bootcamp\\bootcamp_deep_gandhi\\homework\\homework4\n"
     ]
    }
   ],
   "source": [
    "set_homework4_dir()\n",
    "df.to_csv(\"data/raw/api_pull.csv\")"
   ]
  },
  {
   "cell_type": "markdown",
   "id": "21fc3cfb-fb05-48b6-ac94-68e83541edad",
   "metadata": {},
   "source": [
    "# **Web Scraping**\n",
    "- Source = `https://www.slickcharts.com/nasdaq100`\n",
    "- Live data of NASDAQ constituents and their prices\n",
    "- Scraping dynamic page with Selenium and BeautifulSoup4\n",
    "- No Null Values verified by `df.isna().sum().sum()`\n",
    "- Changed all columns to appropriate data types"
   ]
  },
  {
   "cell_type": "code",
   "execution_count": 89,
   "id": "b2891720-5322-462f-8bc2-ed8b36e6669f",
   "metadata": {},
   "outputs": [
    {
     "data": {
      "text/html": [
       "<div>\n",
       "<style scoped>\n",
       "    .dataframe tbody tr th:only-of-type {\n",
       "        vertical-align: middle;\n",
       "    }\n",
       "\n",
       "    .dataframe tbody tr th {\n",
       "        vertical-align: top;\n",
       "    }\n",
       "\n",
       "    .dataframe thead th {\n",
       "        text-align: right;\n",
       "    }\n",
       "</style>\n",
       "<table border=\"1\" class=\"dataframe\">\n",
       "  <thead>\n",
       "    <tr style=\"text-align: right;\">\n",
       "      <th></th>\n",
       "      <th>0</th>\n",
       "      <th>1</th>\n",
       "      <th>2</th>\n",
       "      <th>3</th>\n",
       "      <th>4</th>\n",
       "      <th>5</th>\n",
       "      <th>6</th>\n",
       "      <th>7</th>\n",
       "    </tr>\n",
       "  </thead>\n",
       "  <tbody>\n",
       "    <tr>\n",
       "      <th>0</th>\n",
       "      <td>1</td>\n",
       "      <td>Nvidia</td>\n",
       "      <td>NVDA</td>\n",
       "      <td>14.38%</td>\n",
       "      <td>182.26</td>\n",
       "      <td>1.81</td>\n",
       "      <td>(1.01%)</td>\n",
       "      <td></td>\n",
       "    </tr>\n",
       "    <tr>\n",
       "      <th>1</th>\n",
       "      <td></td>\n",
       "      <td>None</td>\n",
       "      <td>None</td>\n",
       "      <td>None</td>\n",
       "      <td>None</td>\n",
       "      <td>None</td>\n",
       "      <td>None</td>\n",
       "      <td>None</td>\n",
       "    </tr>\n",
       "    <tr>\n",
       "      <th>2</th>\n",
       "      <td>2</td>\n",
       "      <td>Microsoft</td>\n",
       "      <td>MSFT</td>\n",
       "      <td>12.47%</td>\n",
       "      <td>518.46</td>\n",
       "      <td>-1.71</td>\n",
       "      <td>(-0.33%)</td>\n",
       "      <td></td>\n",
       "    </tr>\n",
       "    <tr>\n",
       "      <th>3</th>\n",
       "      <td></td>\n",
       "      <td>None</td>\n",
       "      <td>None</td>\n",
       "      <td>None</td>\n",
       "      <td>None</td>\n",
       "      <td>None</td>\n",
       "      <td>None</td>\n",
       "      <td>None</td>\n",
       "    </tr>\n",
       "    <tr>\n",
       "      <th>4</th>\n",
       "      <td>3</td>\n",
       "      <td>Apple Inc.</td>\n",
       "      <td>AAPL</td>\n",
       "      <td>11.10%</td>\n",
       "      <td>231.12</td>\n",
       "      <td>-0.47</td>\n",
       "      <td>(-0.20%)</td>\n",
       "      <td></td>\n",
       "    </tr>\n",
       "    <tr>\n",
       "      <th>5</th>\n",
       "      <td></td>\n",
       "      <td>None</td>\n",
       "      <td>None</td>\n",
       "      <td>None</td>\n",
       "      <td>None</td>\n",
       "      <td>None</td>\n",
       "      <td>None</td>\n",
       "      <td>None</td>\n",
       "    </tr>\n",
       "    <tr>\n",
       "      <th>6</th>\n",
       "      <td>4</td>\n",
       "      <td>Amazon</td>\n",
       "      <td>AMZN</td>\n",
       "      <td>7.93%</td>\n",
       "      <td>229.69</td>\n",
       "      <td>-1.34</td>\n",
       "      <td>(-0.58%)</td>\n",
       "      <td></td>\n",
       "    </tr>\n",
       "    <tr>\n",
       "      <th>7</th>\n",
       "      <td></td>\n",
       "      <td>None</td>\n",
       "      <td>None</td>\n",
       "      <td>None</td>\n",
       "      <td>None</td>\n",
       "      <td>None</td>\n",
       "      <td>None</td>\n",
       "      <td>None</td>\n",
       "    </tr>\n",
       "    <tr>\n",
       "      <th>8</th>\n",
       "      <td>5</td>\n",
       "      <td>Meta Platforms</td>\n",
       "      <td>META</td>\n",
       "      <td>6.21%</td>\n",
       "      <td>764.10</td>\n",
       "      <td>-21.13</td>\n",
       "      <td>(-2.69%)</td>\n",
       "      <td></td>\n",
       "    </tr>\n",
       "    <tr>\n",
       "      <th>9</th>\n",
       "      <td></td>\n",
       "      <td>None</td>\n",
       "      <td>None</td>\n",
       "      <td>None</td>\n",
       "      <td>None</td>\n",
       "      <td>None</td>\n",
       "      <td>None</td>\n",
       "      <td>None</td>\n",
       "    </tr>\n",
       "  </tbody>\n",
       "</table>\n",
       "</div>"
      ],
      "text/plain": [
       "   0               1     2       3       4       5         6     7\n",
       "0  1          Nvidia  NVDA  14.38%  182.26    1.81   (1.01%)      \n",
       "1               None  None    None    None    None      None  None\n",
       "2  2       Microsoft  MSFT  12.47%  518.46   -1.71  (-0.33%)      \n",
       "3               None  None    None    None    None      None  None\n",
       "4  3      Apple Inc.  AAPL  11.10%  231.12   -0.47  (-0.20%)      \n",
       "5               None  None    None    None    None      None  None\n",
       "6  4          Amazon  AMZN   7.93%  229.69   -1.34  (-0.58%)      \n",
       "7               None  None    None    None    None      None  None\n",
       "8  5  Meta Platforms  META   6.21%  764.10  -21.13  (-2.69%)      \n",
       "9               None  None    None    None    None      None  None"
      ]
     },
     "execution_count": 89,
     "metadata": {},
     "output_type": "execute_result"
    }
   ],
   "source": [
    "from selenium import webdriver\n",
    "from bs4 import BeautifulSoup\n",
    "import requests\n",
    "import time\n",
    "\n",
    "driver = webdriver.Chrome()\n",
    "driver.get(\"https://www.slickcharts.com/nasdaq100\")\n",
    "time.sleep(20)\n",
    "soup = BeautifulSoup(response.text, \"html.parser\")\n",
    "\n",
    "soup = BeautifulSoup(driver.page_source, \"html.parser\")\n",
    "table = soup.find(\"table\")\n",
    "rows = []\n",
    "\n",
    "for tr in table.find(\"tbody\").find_all(\"tr\"):\n",
    "    cols = [td.text.strip() for td in tr.find_all(\"td\")]\n",
    "    rows.append(cols)\n",
    "\n",
    "df = pd.DataFrame(rows)\n",
    "df.head(10)\n",
    "driver.quit()"
   ]
  },
  {
   "cell_type": "code",
   "execution_count": 90,
   "id": "aec4fa57-3255-4c30-9dd3-cf7da3e6d28d",
   "metadata": {},
   "outputs": [
    {
     "data": {
      "text/html": [
       "<div>\n",
       "<style scoped>\n",
       "    .dataframe tbody tr th:only-of-type {\n",
       "        vertical-align: middle;\n",
       "    }\n",
       "\n",
       "    .dataframe tbody tr th {\n",
       "        vertical-align: top;\n",
       "    }\n",
       "\n",
       "    .dataframe thead th {\n",
       "        text-align: right;\n",
       "    }\n",
       "</style>\n",
       "<table border=\"1\" class=\"dataframe\">\n",
       "  <thead>\n",
       "    <tr style=\"text-align: right;\">\n",
       "      <th></th>\n",
       "      <th>Rank</th>\n",
       "      <th>Company</th>\n",
       "      <th>Symbol</th>\n",
       "      <th>Weight</th>\n",
       "      <th>Price</th>\n",
       "    </tr>\n",
       "  </thead>\n",
       "  <tbody>\n",
       "    <tr>\n",
       "      <th>0</th>\n",
       "      <td>1</td>\n",
       "      <td>Nvidia</td>\n",
       "      <td>NVDA</td>\n",
       "      <td>14.38%</td>\n",
       "      <td>182.26</td>\n",
       "    </tr>\n",
       "    <tr>\n",
       "      <th>1</th>\n",
       "      <td>2</td>\n",
       "      <td>Microsoft</td>\n",
       "      <td>MSFT</td>\n",
       "      <td>12.47%</td>\n",
       "      <td>518.46</td>\n",
       "    </tr>\n",
       "    <tr>\n",
       "      <th>2</th>\n",
       "      <td>3</td>\n",
       "      <td>Apple Inc.</td>\n",
       "      <td>AAPL</td>\n",
       "      <td>11.10%</td>\n",
       "      <td>231.12</td>\n",
       "    </tr>\n",
       "    <tr>\n",
       "      <th>3</th>\n",
       "      <td>4</td>\n",
       "      <td>Amazon</td>\n",
       "      <td>AMZN</td>\n",
       "      <td>7.93%</td>\n",
       "      <td>229.69</td>\n",
       "    </tr>\n",
       "    <tr>\n",
       "      <th>4</th>\n",
       "      <td>5</td>\n",
       "      <td>Meta Platforms</td>\n",
       "      <td>META</td>\n",
       "      <td>6.21%</td>\n",
       "      <td>764.10</td>\n",
       "    </tr>\n",
       "    <tr>\n",
       "      <th>5</th>\n",
       "      <td>6</td>\n",
       "      <td>Broadcom Inc.</td>\n",
       "      <td>AVGO</td>\n",
       "      <td>4.59%</td>\n",
       "      <td>301.61</td>\n",
       "    </tr>\n",
       "    <tr>\n",
       "      <th>6</th>\n",
       "      <td>7</td>\n",
       "      <td>Alphabet Inc. (Class A)</td>\n",
       "      <td>GOOGL</td>\n",
       "      <td>4.13%</td>\n",
       "      <td>204.10</td>\n",
       "    </tr>\n",
       "    <tr>\n",
       "      <th>7</th>\n",
       "      <td>8</td>\n",
       "      <td>Alphabet Inc. (Class C)</td>\n",
       "      <td>GOOG</td>\n",
       "      <td>3.87%</td>\n",
       "      <td>205.06</td>\n",
       "    </tr>\n",
       "    <tr>\n",
       "      <th>8</th>\n",
       "      <td>9</td>\n",
       "      <td>Tesla, Inc.</td>\n",
       "      <td>TSLA</td>\n",
       "      <td>3.47%</td>\n",
       "      <td>332.86</td>\n",
       "    </tr>\n",
       "    <tr>\n",
       "      <th>9</th>\n",
       "      <td>10</td>\n",
       "      <td>Netflix</td>\n",
       "      <td>NFLX</td>\n",
       "      <td>1.72%</td>\n",
       "      <td>1,248.10</td>\n",
       "    </tr>\n",
       "  </tbody>\n",
       "</table>\n",
       "</div>"
      ],
      "text/plain": [
       "  Rank                  Company Symbol  Weight     Price\n",
       "0    1                   Nvidia   NVDA  14.38%    182.26\n",
       "1    2                Microsoft   MSFT  12.47%    518.46\n",
       "2    3               Apple Inc.   AAPL  11.10%    231.12\n",
       "3    4                   Amazon   AMZN   7.93%    229.69\n",
       "4    5           Meta Platforms   META   6.21%    764.10\n",
       "5    6            Broadcom Inc.   AVGO   4.59%    301.61\n",
       "6    7  Alphabet Inc. (Class A)  GOOGL   4.13%    204.10\n",
       "7    8  Alphabet Inc. (Class C)   GOOG   3.87%    205.06\n",
       "8    9              Tesla, Inc.   TSLA   3.47%    332.86\n",
       "9   10                  Netflix   NFLX   1.72%  1,248.10"
      ]
     },
     "execution_count": 90,
     "metadata": {},
     "output_type": "execute_result"
    }
   ],
   "source": [
    "df_even = df[df.index % 2 == 0].reset_index(drop=True)\n",
    "df_even = df_even.iloc[:, :-3]\n",
    "\n",
    "df_even.columns = [\"Rank\", \"Company\", \"Symbol\", \"Weight\", \"Price\"]\n",
    "df_even.head(10)"
   ]
  },
  {
   "cell_type": "code",
   "execution_count": 91,
   "id": "dc678825-c7bd-4c20-bb58-7fbf04d0fbf4",
   "metadata": {},
   "outputs": [
    {
     "data": {
      "text/plain": [
       "0"
      ]
     },
     "execution_count": 91,
     "metadata": {},
     "output_type": "execute_result"
    }
   ],
   "source": [
    "df_even.isna().sum().sum()"
   ]
  },
  {
   "cell_type": "code",
   "execution_count": 92,
   "id": "07046051-3625-4c50-980e-ed0b1dacc84c",
   "metadata": {},
   "outputs": [],
   "source": [
    "df = df_even\n",
    "df['Rank'] = df['Rank'].astype(int)\n",
    "df[\"Price\"] = df[\"Price\"].str.replace(\",\", \"\", regex=False).astype(float)"
   ]
  },
  {
   "cell_type": "code",
   "execution_count": 93,
   "id": "83ba081a-eff2-4bf4-8ea7-c7f1f79616ed",
   "metadata": {},
   "outputs": [
    {
     "name": "stdout",
     "output_type": "stream",
     "text": [
      "<class 'pandas.core.frame.DataFrame'>\n",
      "RangeIndex: 101 entries, 0 to 100\n",
      "Data columns (total 5 columns):\n",
      " #   Column   Non-Null Count  Dtype  \n",
      "---  ------   --------------  -----  \n",
      " 0   Rank     101 non-null    int32  \n",
      " 1   Company  101 non-null    object \n",
      " 2   Symbol   101 non-null    object \n",
      " 3   Weight   101 non-null    object \n",
      " 4   Price    101 non-null    float64\n",
      "dtypes: float64(1), int32(1), object(3)\n",
      "memory usage: 3.7+ KB\n"
     ]
    }
   ],
   "source": [
    "df.info()"
   ]
  },
  {
   "cell_type": "code",
   "execution_count": 94,
   "id": "5a363402-5bed-41da-8aa7-6ca80b15203d",
   "metadata": {},
   "outputs": [
    {
     "name": "stdout",
     "output_type": "stream",
     "text": [
      "Working directory set to: C:\\Users\\Lenovo\\Jupyter Notebooks\\Bootcamp\\bootcamp_deep_gandhi\\homework\\homework4\n"
     ]
    }
   ],
   "source": [
    "set_homework4_dir()\n",
    "df.to_csv(\"data/raw/table.csv\")"
   ]
  },
  {
   "cell_type": "markdown",
   "id": "347081e7-261c-4449-b538-f173742378d1",
   "metadata": {},
   "source": [
    "### *Confirming `.env` is not committed*"
   ]
  },
  {
   "cell_type": "code",
   "execution_count": 99,
   "id": "2899247b-4272-40eb-846e-ab3c6c97a88a",
   "metadata": {},
   "outputs": [
    {
     "name": "stdout",
     "output_type": "stream",
     "text": [
      "C:\\Users\\Lenovo\\Jupyter Notebooks\\Bootcamp\\bootcamp_deep_gandhi\n",
      ".env is listed in .gitignore (safe).\n"
     ]
    }
   ],
   "source": [
    "%cd C:\\Users\\Lenovo\\Jupyter Notebooks\\Bootcamp\\bootcamp_deep_gandhi\n",
    "gitignore_path = Path(\".gitignore\")\n",
    "with open(gitignore_path, \"r\") as f:\n",
    "    gitignore_content = f.read().splitlines()\n",
    "\n",
    "if \".env\" in gitignore_content or any(line.strip() == \".env\" for line in gitignore_content):\n",
    "    print(\".env is listed in .gitignore (safe).\")\n",
    "else:\n",
    "    print(\".env is NOT listed in .gitignore!\")"
   ]
  },
  {
   "cell_type": "markdown",
   "id": "a6d15074-1ed2-4f40-b247-00075fe090b4",
   "metadata": {},
   "source": [
    "# **Assumptions and Risks:**\n",
    "- API rate limit of Alpha vantage is 25 requests/day\n",
    "- Website is dynamic and so we wait 20s for it load then scrape\n",
    "- Website may change format, then we need to write new code\n",
    "- Confirmed `.env` is not committed"
   ]
  },
  {
   "cell_type": "code",
   "execution_count": null,
   "id": "ea7b9d4d-773e-4111-bf8a-b4d54a3da55a",
   "metadata": {},
   "outputs": [],
   "source": []
  }
 ],
 "metadata": {
  "kernelspec": {
   "display_name": "Python 3 (ipykernel)",
   "language": "python",
   "name": "python3"
  },
  "language_info": {
   "codemirror_mode": {
    "name": "ipython",
    "version": 3
   },
   "file_extension": ".py",
   "mimetype": "text/x-python",
   "name": "python",
   "nbconvert_exporter": "python",
   "pygments_lexer": "ipython3",
   "version": "3.12.3"
  }
 },
 "nbformat": 4,
 "nbformat_minor": 5
}
