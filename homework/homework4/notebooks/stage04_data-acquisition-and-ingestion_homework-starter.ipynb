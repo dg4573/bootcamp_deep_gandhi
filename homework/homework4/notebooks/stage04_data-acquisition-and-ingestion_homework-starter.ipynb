{
 "cells": [
  {
   "cell_type": "markdown",
   "id": "47a1f4e5-57a0-475c-86d4-ecfce214d8b3",
   "metadata": {},
   "source": [
    "### Extracting `API_KEY` from `.env`"
   ]
  },
  {
   "cell_type": "code",
   "execution_count": 1,
   "id": "7a57bde1-3a0d-4e3e-a57e-a1ba688fba4b",
   "metadata": {},
   "outputs": [
    {
     "name": "stdout",
     "output_type": "stream",
     "text": [
      "API KEY loaded!\n"
     ]
    }
   ],
   "source": [
    "import numpy as np\n",
    "from dotenv import load_dotenv\n",
    "from pathlib import Path\n",
    "import os\n",
    "import requests\n",
    "import pandas as pd\n",
    "import numpy as np\n",
    "from pathlib import Path\n",
    "\n",
    "load_dotenv()  \n",
    "API_KEY = os.getenv(\"API_KEY\") \n",
    "\n",
    "if API_KEY is not None:\n",
    "    print(\"API KEY loaded!\")\n",
    "\n",
    "data_raw = Path(os.getenv(\"DATA_RAW\"))\n",
    "data_processed = Path(os.getenv(\"DATA_PROCESSED\"))"
   ]
  },
  {
   "cell_type": "markdown",
   "id": "b661b371-b970-46f6-973a-bc18661ad143",
   "metadata": {},
   "source": [
    "# **API PULL**\n",
    "- API Provider: Alpha Vantage\n",
    "- Data Type: Historical Options Data\n",
    "- No Missing Values (Checked with `df.isna().sum().sum()`)\n",
    "- Changed all columns to appropriate data types"
   ]
  },
  {
   "cell_type": "code",
   "execution_count": 2,
   "id": "afdd6656-d464-4e4b-92ff-7026e4d68250",
   "metadata": {},
   "outputs": [
    {
     "name": "stdout",
     "output_type": "stream",
     "text": [
      "{'contractID': 'IBM250822C00150000', 'symbol': 'IBM', 'expiration': '2025-08-22', 'strike': '150.00', 'type': 'call', 'last': '0.00', 'mark': '91.33', 'bid': '90.75', 'bid_size': '21', 'ask': '91.90', 'ask_size': '17', 'volume': '0', 'open_interest': '0', 'date': '2025-08-19', 'implied_volatility': '0.01976', 'delta': '1.00000', 'gamma': '0.00000', 'theta': '-0.01779', 'vega': '0.00000', 'rho': '0.01232'}\n"
     ]
    }
   ],
   "source": [
    "url = f'https://www.alphavantage.co/query?function=HISTORICAL_OPTIONS&symbol=IBM&apikey={API_KEY}'\n",
    "r = requests.get(url)\n",
    "data = r.json()\n",
    "data = data['data']\n",
    "print(data[0])"
   ]
  },
  {
   "cell_type": "code",
   "execution_count": 3,
   "id": "11c7746a-4c37-45f5-8d1c-35ece907cc11",
   "metadata": {},
   "outputs": [
    {
     "data": {
      "text/html": [
       "<div>\n",
       "<style scoped>\n",
       "    .dataframe tbody tr th:only-of-type {\n",
       "        vertical-align: middle;\n",
       "    }\n",
       "\n",
       "    .dataframe tbody tr th {\n",
       "        vertical-align: top;\n",
       "    }\n",
       "\n",
       "    .dataframe thead th {\n",
       "        text-align: right;\n",
       "    }\n",
       "</style>\n",
       "<table border=\"1\" class=\"dataframe\">\n",
       "  <thead>\n",
       "    <tr style=\"text-align: right;\">\n",
       "      <th></th>\n",
       "      <th>contractID</th>\n",
       "      <th>symbol</th>\n",
       "      <th>expiration</th>\n",
       "      <th>strike</th>\n",
       "      <th>type</th>\n",
       "      <th>last</th>\n",
       "      <th>mark</th>\n",
       "      <th>bid</th>\n",
       "      <th>bid_size</th>\n",
       "      <th>ask</th>\n",
       "      <th>ask_size</th>\n",
       "      <th>volume</th>\n",
       "      <th>open_interest</th>\n",
       "      <th>date</th>\n",
       "      <th>implied_volatility</th>\n",
       "      <th>delta</th>\n",
       "      <th>gamma</th>\n",
       "      <th>theta</th>\n",
       "      <th>vega</th>\n",
       "      <th>rho</th>\n",
       "    </tr>\n",
       "  </thead>\n",
       "  <tbody>\n",
       "    <tr>\n",
       "      <th>0</th>\n",
       "      <td>IBM250822C00150000</td>\n",
       "      <td>IBM</td>\n",
       "      <td>2025-08-22</td>\n",
       "      <td>150.00</td>\n",
       "      <td>call</td>\n",
       "      <td>0.00</td>\n",
       "      <td>91.33</td>\n",
       "      <td>90.75</td>\n",
       "      <td>21</td>\n",
       "      <td>91.90</td>\n",
       "      <td>17</td>\n",
       "      <td>0</td>\n",
       "      <td>0</td>\n",
       "      <td>2025-08-19</td>\n",
       "      <td>0.01976</td>\n",
       "      <td>1.00000</td>\n",
       "      <td>0.00000</td>\n",
       "      <td>-0.01779</td>\n",
       "      <td>0.00000</td>\n",
       "      <td>0.01232</td>\n",
       "    </tr>\n",
       "    <tr>\n",
       "      <th>1</th>\n",
       "      <td>IBM250822P00150000</td>\n",
       "      <td>IBM</td>\n",
       "      <td>2025-08-22</td>\n",
       "      <td>150.00</td>\n",
       "      <td>put</td>\n",
       "      <td>0.00</td>\n",
       "      <td>0.01</td>\n",
       "      <td>0.00</td>\n",
       "      <td>0</td>\n",
       "      <td>0.22</td>\n",
       "      <td>37</td>\n",
       "      <td>0</td>\n",
       "      <td>1</td>\n",
       "      <td>2025-08-19</td>\n",
       "      <td>1.73679</td>\n",
       "      <td>-0.00097</td>\n",
       "      <td>0.00009</td>\n",
       "      <td>-0.02067</td>\n",
       "      <td>0.00072</td>\n",
       "      <td>-0.00002</td>\n",
       "    </tr>\n",
       "    <tr>\n",
       "      <th>2</th>\n",
       "      <td>IBM250822C00155000</td>\n",
       "      <td>IBM</td>\n",
       "      <td>2025-08-22</td>\n",
       "      <td>155.00</td>\n",
       "      <td>call</td>\n",
       "      <td>0.00</td>\n",
       "      <td>86.12</td>\n",
       "      <td>85.70</td>\n",
       "      <td>31</td>\n",
       "      <td>86.55</td>\n",
       "      <td>14</td>\n",
       "      <td>0</td>\n",
       "      <td>0</td>\n",
       "      <td>2025-08-19</td>\n",
       "      <td>0.01976</td>\n",
       "      <td>1.00000</td>\n",
       "      <td>0.00000</td>\n",
       "      <td>-0.01838</td>\n",
       "      <td>0.00000</td>\n",
       "      <td>0.01274</td>\n",
       "    </tr>\n",
       "    <tr>\n",
       "      <th>3</th>\n",
       "      <td>IBM250822P00155000</td>\n",
       "      <td>IBM</td>\n",
       "      <td>2025-08-22</td>\n",
       "      <td>155.00</td>\n",
       "      <td>put</td>\n",
       "      <td>0.00</td>\n",
       "      <td>0.01</td>\n",
       "      <td>0.00</td>\n",
       "      <td>0</td>\n",
       "      <td>0.07</td>\n",
       "      <td>6</td>\n",
       "      <td>0</td>\n",
       "      <td>0</td>\n",
       "      <td>2025-08-19</td>\n",
       "      <td>1.61972</td>\n",
       "      <td>-0.00100</td>\n",
       "      <td>0.00010</td>\n",
       "      <td>-0.01990</td>\n",
       "      <td>0.00074</td>\n",
       "      <td>-0.00002</td>\n",
       "    </tr>\n",
       "    <tr>\n",
       "      <th>4</th>\n",
       "      <td>IBM250822C00160000</td>\n",
       "      <td>IBM</td>\n",
       "      <td>2025-08-22</td>\n",
       "      <td>160.00</td>\n",
       "      <td>call</td>\n",
       "      <td>0.00</td>\n",
       "      <td>81.17</td>\n",
       "      <td>80.80</td>\n",
       "      <td>14</td>\n",
       "      <td>81.55</td>\n",
       "      <td>5</td>\n",
       "      <td>0</td>\n",
       "      <td>0</td>\n",
       "      <td>2025-08-19</td>\n",
       "      <td>0.01976</td>\n",
       "      <td>1.00000</td>\n",
       "      <td>0.00000</td>\n",
       "      <td>-0.01897</td>\n",
       "      <td>0.00000</td>\n",
       "      <td>0.01315</td>\n",
       "    </tr>\n",
       "  </tbody>\n",
       "</table>\n",
       "</div>"
      ],
      "text/plain": [
       "           contractID symbol  expiration  strike  type  last   mark    bid  \\\n",
       "0  IBM250822C00150000    IBM  2025-08-22  150.00  call  0.00  91.33  90.75   \n",
       "1  IBM250822P00150000    IBM  2025-08-22  150.00   put  0.00   0.01   0.00   \n",
       "2  IBM250822C00155000    IBM  2025-08-22  155.00  call  0.00  86.12  85.70   \n",
       "3  IBM250822P00155000    IBM  2025-08-22  155.00   put  0.00   0.01   0.00   \n",
       "4  IBM250822C00160000    IBM  2025-08-22  160.00  call  0.00  81.17  80.80   \n",
       "\n",
       "  bid_size    ask ask_size volume open_interest        date  \\\n",
       "0       21  91.90       17      0             0  2025-08-19   \n",
       "1        0   0.22       37      0             1  2025-08-19   \n",
       "2       31  86.55       14      0             0  2025-08-19   \n",
       "3        0   0.07        6      0             0  2025-08-19   \n",
       "4       14  81.55        5      0             0  2025-08-19   \n",
       "\n",
       "  implied_volatility     delta    gamma     theta     vega       rho  \n",
       "0            0.01976   1.00000  0.00000  -0.01779  0.00000   0.01232  \n",
       "1            1.73679  -0.00097  0.00009  -0.02067  0.00072  -0.00002  \n",
       "2            0.01976   1.00000  0.00000  -0.01838  0.00000   0.01274  \n",
       "3            1.61972  -0.00100  0.00010  -0.01990  0.00074  -0.00002  \n",
       "4            0.01976   1.00000  0.00000  -0.01897  0.00000   0.01315  "
      ]
     },
     "execution_count": 3,
     "metadata": {},
     "output_type": "execute_result"
    }
   ],
   "source": [
    "df = pd.DataFrame(data)\n",
    "df.head()"
   ]
  },
  {
   "cell_type": "code",
   "execution_count": 4,
   "id": "3816f291-c821-472e-bfeb-b309852972e3",
   "metadata": {},
   "outputs": [
    {
     "name": "stdout",
     "output_type": "stream",
     "text": [
      "<class 'pandas.core.frame.DataFrame'>\n",
      "RangeIndex: 1624 entries, 0 to 1623\n",
      "Data columns (total 20 columns):\n",
      " #   Column              Non-Null Count  Dtype \n",
      "---  ------              --------------  ----- \n",
      " 0   contractID          1624 non-null   object\n",
      " 1   symbol              1624 non-null   object\n",
      " 2   expiration          1624 non-null   object\n",
      " 3   strike              1624 non-null   object\n",
      " 4   type                1624 non-null   object\n",
      " 5   last                1624 non-null   object\n",
      " 6   mark                1624 non-null   object\n",
      " 7   bid                 1624 non-null   object\n",
      " 8   bid_size            1624 non-null   object\n",
      " 9   ask                 1624 non-null   object\n",
      " 10  ask_size            1624 non-null   object\n",
      " 11  volume              1624 non-null   object\n",
      " 12  open_interest       1624 non-null   object\n",
      " 13  date                1624 non-null   object\n",
      " 14  implied_volatility  1624 non-null   object\n",
      " 15  delta               1624 non-null   object\n",
      " 16  gamma               1624 non-null   object\n",
      " 17  theta               1624 non-null   object\n",
      " 18  vega                1624 non-null   object\n",
      " 19  rho                 1624 non-null   object\n",
      "dtypes: object(20)\n",
      "memory usage: 253.9+ KB\n"
     ]
    }
   ],
   "source": [
    "df.info()"
   ]
  },
  {
   "cell_type": "code",
   "execution_count": 5,
   "id": "bef0a5c7-ee40-4cc5-88b6-57e3df9b24c5",
   "metadata": {},
   "outputs": [
    {
     "name": "stdout",
     "output_type": "stream",
     "text": [
      "No Missing Values!\n"
     ]
    }
   ],
   "source": [
    "if df.isna().sum().sum() == 0:\n",
    "    print(\"No Missing Values!\")\n",
    "else:\n",
    "    print(f\"{df.isna().sum().sum()} Missing Values Found!\")"
   ]
  },
  {
   "cell_type": "code",
   "execution_count": 6,
   "id": "68f4fb4e-85f3-494d-8b07-e2ca761594c1",
   "metadata": {},
   "outputs": [
    {
     "name": "stdout",
     "output_type": "stream",
     "text": [
      "Shape of df: (1624, 20)\n",
      "Columns: ['contractID', 'symbol', 'expiration', 'strike', 'type', 'last', 'mark', 'bid', 'bid_size', 'ask', 'ask_size', 'volume', 'open_interest', 'date', 'implied_volatility', 'delta', 'gamma', 'theta', 'vega', 'rho']\n"
     ]
    }
   ],
   "source": [
    "print(f\"Shape of df: {df.shape}\")\n",
    "print(f\"Columns: {[i for i in df.columns]}\")"
   ]
  },
  {
   "cell_type": "markdown",
   "id": "49b94b53-d014-4570-88ca-f166e7aa20eb",
   "metadata": {},
   "source": [
    "### Changing columns to appropriate data types"
   ]
  },
  {
   "cell_type": "code",
   "execution_count": 7,
   "id": "4fe594d7-144c-4f53-b500-2a6d5e5668cb",
   "metadata": {},
   "outputs": [],
   "source": [
    "df[\"expiration\"] = pd.to_datetime(df[\"expiration\"])\n",
    "df[\"date\"] = pd.to_datetime(df[\"date\"])\n",
    "\n",
    "num_cols = [\"strike\", \"last\", \"mark\", \"bid\", \"bid_size\", \"ask\", \"ask_size\",\n",
    "    \"volume\", \"open_interest\", \"implied_volatility\", \"delta\",\n",
    "    \"gamma\", \"theta\", \"vega\", \"rho\"]\n",
    "\n",
    "df[num_cols] = df[num_cols].apply(pd.to_numeric, errors=\"coerce\")"
   ]
  },
  {
   "cell_type": "code",
   "execution_count": 8,
   "id": "4cf951ea-84b3-4dbf-987a-66b648d84dbb",
   "metadata": {},
   "outputs": [
    {
     "name": "stdout",
     "output_type": "stream",
     "text": [
      "<class 'pandas.core.frame.DataFrame'>\n",
      "RangeIndex: 1624 entries, 0 to 1623\n",
      "Data columns (total 20 columns):\n",
      " #   Column              Non-Null Count  Dtype         \n",
      "---  ------              --------------  -----         \n",
      " 0   contractID          1624 non-null   object        \n",
      " 1   symbol              1624 non-null   object        \n",
      " 2   expiration          1624 non-null   datetime64[ns]\n",
      " 3   strike              1624 non-null   float64       \n",
      " 4   type                1624 non-null   object        \n",
      " 5   last                1624 non-null   float64       \n",
      " 6   mark                1624 non-null   float64       \n",
      " 7   bid                 1624 non-null   float64       \n",
      " 8   bid_size            1624 non-null   int64         \n",
      " 9   ask                 1624 non-null   float64       \n",
      " 10  ask_size            1624 non-null   int64         \n",
      " 11  volume              1624 non-null   int64         \n",
      " 12  open_interest       1624 non-null   int64         \n",
      " 13  date                1624 non-null   datetime64[ns]\n",
      " 14  implied_volatility  1624 non-null   float64       \n",
      " 15  delta               1624 non-null   float64       \n",
      " 16  gamma               1624 non-null   float64       \n",
      " 17  theta               1624 non-null   float64       \n",
      " 18  vega                1624 non-null   float64       \n",
      " 19  rho                 1624 non-null   float64       \n",
      "dtypes: datetime64[ns](2), float64(11), int64(4), object(3)\n",
      "memory usage: 253.9+ KB\n"
     ]
    }
   ],
   "source": [
    "df.info()"
   ]
  },
  {
   "cell_type": "code",
   "execution_count": 9,
   "id": "d5f6ec7f-fdfc-44cf-b10a-e881771fa350",
   "metadata": {},
   "outputs": [],
   "source": [
    "df.to_csv(data_raw / \"api_pull.csv\")"
   ]
  },
  {
   "cell_type": "markdown",
   "id": "21fc3cfb-fb05-48b6-ac94-68e83541edad",
   "metadata": {},
   "source": [
    "# **Web Scraping**\n",
    "- Source = `https://www.slickcharts.com/nasdaq100`\n",
    "- Live data of NASDAQ constituents and their prices\n",
    "- Scraping dynamic page with Selenium and BeautifulSoup4\n",
    "- No Null Values verified by `df.isna().sum().sum()`\n",
    "- Changed all columns to appropriate data types"
   ]
  },
  {
   "cell_type": "code",
   "execution_count": 24,
   "id": "361a773c-3691-419b-811d-08f2856a5135",
   "metadata": {},
   "outputs": [
    {
     "data": {
      "text/html": [
       "<div>\n",
       "<style scoped>\n",
       "    .dataframe tbody tr th:only-of-type {\n",
       "        vertical-align: middle;\n",
       "    }\n",
       "\n",
       "    .dataframe tbody tr th {\n",
       "        vertical-align: top;\n",
       "    }\n",
       "\n",
       "    .dataframe thead th {\n",
       "        text-align: right;\n",
       "    }\n",
       "</style>\n",
       "<table border=\"1\" class=\"dataframe\">\n",
       "  <thead>\n",
       "    <tr style=\"text-align: right;\">\n",
       "      <th></th>\n",
       "      <th>Rank</th>\n",
       "      <th>Company</th>\n",
       "      <th>Symbol</th>\n",
       "      <th>Weight</th>\n",
       "      <th>Price</th>\n",
       "      <th>Chg</th>\n",
       "      <th>% Chg</th>\n",
       "    </tr>\n",
       "  </thead>\n",
       "  <tbody>\n",
       "    <tr>\n",
       "      <th>0</th>\n",
       "      <td>1</td>\n",
       "      <td>Nvidia</td>\n",
       "      <td>NVDA</td>\n",
       "      <td>13.83%</td>\n",
       "      <td>169.26</td>\n",
       "      <td>-6.38</td>\n",
       "      <td>(-3.63%)</td>\n",
       "    </tr>\n",
       "    <tr>\n",
       "      <th>1</th>\n",
       "      <td></td>\n",
       "      <td>None</td>\n",
       "      <td>None</td>\n",
       "      <td>None</td>\n",
       "      <td>None</td>\n",
       "      <td>None</td>\n",
       "      <td>None</td>\n",
       "    </tr>\n",
       "    <tr>\n",
       "      <th>2</th>\n",
       "      <td>2</td>\n",
       "      <td>Microsoft</td>\n",
       "      <td>MSFT</td>\n",
       "      <td>12.62%</td>\n",
       "      <td>506.82</td>\n",
       "      <td>-2.95</td>\n",
       "      <td>(-0.58%)</td>\n",
       "    </tr>\n",
       "    <tr>\n",
       "      <th>3</th>\n",
       "      <td></td>\n",
       "      <td>None</td>\n",
       "      <td>None</td>\n",
       "      <td>None</td>\n",
       "      <td>None</td>\n",
       "      <td>None</td>\n",
       "      <td>None</td>\n",
       "    </tr>\n",
       "    <tr>\n",
       "      <th>4</th>\n",
       "      <td>3</td>\n",
       "      <td>Apple Inc.</td>\n",
       "      <td>AAPL</td>\n",
       "      <td>11.26%</td>\n",
       "      <td>226.39</td>\n",
       "      <td>-4.17</td>\n",
       "      <td>(-1.81%)</td>\n",
       "    </tr>\n",
       "    <tr>\n",
       "      <th>5</th>\n",
       "      <td></td>\n",
       "      <td>None</td>\n",
       "      <td>None</td>\n",
       "      <td>None</td>\n",
       "      <td>None</td>\n",
       "      <td>None</td>\n",
       "      <td>None</td>\n",
       "    </tr>\n",
       "    <tr>\n",
       "      <th>6</th>\n",
       "      <td>4</td>\n",
       "      <td>Amazon</td>\n",
       "      <td>AMZN</td>\n",
       "      <td>7.90%</td>\n",
       "      <td>221.24</td>\n",
       "      <td>-6.77</td>\n",
       "      <td>(-2.97%)</td>\n",
       "    </tr>\n",
       "    <tr>\n",
       "      <th>7</th>\n",
       "      <td></td>\n",
       "      <td>None</td>\n",
       "      <td>None</td>\n",
       "      <td>None</td>\n",
       "      <td>None</td>\n",
       "      <td>None</td>\n",
       "      <td>None</td>\n",
       "    </tr>\n",
       "    <tr>\n",
       "      <th>8</th>\n",
       "      <td>5</td>\n",
       "      <td>Meta Platforms</td>\n",
       "      <td>META</td>\n",
       "      <td>6.17%</td>\n",
       "      <td>733.25</td>\n",
       "      <td>-18.23</td>\n",
       "      <td>(-2.43%)</td>\n",
       "    </tr>\n",
       "    <tr>\n",
       "      <th>9</th>\n",
       "      <td></td>\n",
       "      <td>None</td>\n",
       "      <td>None</td>\n",
       "      <td>None</td>\n",
       "      <td>None</td>\n",
       "      <td>None</td>\n",
       "      <td>None</td>\n",
       "    </tr>\n",
       "  </tbody>\n",
       "</table>\n",
       "</div>"
      ],
      "text/plain": [
       "  Rank         Company Symbol  Weight   Price     Chg     % Chg\n",
       "0    1          Nvidia   NVDA  13.83%  169.26   -6.38  (-3.63%)\n",
       "1                 None   None    None    None    None      None\n",
       "2    2       Microsoft   MSFT  12.62%  506.82   -2.95  (-0.58%)\n",
       "3                 None   None    None    None    None      None\n",
       "4    3      Apple Inc.   AAPL  11.26%  226.39   -4.17  (-1.81%)\n",
       "5                 None   None    None    None    None      None\n",
       "6    4          Amazon   AMZN   7.90%  221.24   -6.77  (-2.97%)\n",
       "7                 None   None    None    None    None      None\n",
       "8    5  Meta Platforms   META   6.17%  733.25  -18.23  (-2.43%)\n",
       "9                 None   None    None    None    None      None"
      ]
     },
     "execution_count": 24,
     "metadata": {},
     "output_type": "execute_result"
    }
   ],
   "source": [
    "import requests\n",
    "import pandas as pd\n",
    "from bs4 import BeautifulSoup\n",
    "\n",
    "url = \"https://www.slickcharts.com/nasdaq100\"\n",
    "\n",
    "headers = {\n",
    "    \"User-Agent\": \"Mozilla/5.0 (Windows NT 10.0; Win64; x64) \"\n",
    "                  \"AppleWebKit/537.36 (KHTML, like Gecko) \"\n",
    "                  \"Chrome/139.0.0.0 Safari/537.36\"\n",
    "}\n",
    "\n",
    "response = requests.get(url, headers=headers)\n",
    "response.raise_for_status()\n",
    "\n",
    "soup = BeautifulSoup(response.text, \"html.parser\")\n",
    "table = soup.find(\"table\")\n",
    "\n",
    "rows = []\n",
    "for tr in table.find(\"tbody\").find_all(\"tr\"):\n",
    "    cols = [td.text.strip() for td in tr.find_all(\"td\")]\n",
    "    rows.append(cols)\n",
    "\n",
    "df = pd.DataFrame(rows)\n",
    "df = df.iloc[:, :-1]\n",
    "df.columns = [\"Rank\", \"Company\", \"Symbol\", \"Weight\", \"Price\", \"Chg\", \"% Chg\"]\n",
    "df.head(10)"
   ]
  },
  {
   "cell_type": "code",
   "execution_count": 26,
   "id": "aec4fa57-3255-4c30-9dd3-cf7da3e6d28d",
   "metadata": {},
   "outputs": [
    {
     "data": {
      "text/html": [
       "<div>\n",
       "<style scoped>\n",
       "    .dataframe tbody tr th:only-of-type {\n",
       "        vertical-align: middle;\n",
       "    }\n",
       "\n",
       "    .dataframe tbody tr th {\n",
       "        vertical-align: top;\n",
       "    }\n",
       "\n",
       "    .dataframe thead th {\n",
       "        text-align: right;\n",
       "    }\n",
       "</style>\n",
       "<table border=\"1\" class=\"dataframe\">\n",
       "  <thead>\n",
       "    <tr style=\"text-align: right;\">\n",
       "      <th></th>\n",
       "      <th>Rank</th>\n",
       "      <th>Company</th>\n",
       "      <th>Symbol</th>\n",
       "      <th>Weight</th>\n",
       "    </tr>\n",
       "  </thead>\n",
       "  <tbody>\n",
       "    <tr>\n",
       "      <th>0</th>\n",
       "      <td>1</td>\n",
       "      <td>Nvidia</td>\n",
       "      <td>NVDA</td>\n",
       "      <td>13.83%</td>\n",
       "    </tr>\n",
       "    <tr>\n",
       "      <th>1</th>\n",
       "      <td>2</td>\n",
       "      <td>Microsoft</td>\n",
       "      <td>MSFT</td>\n",
       "      <td>12.62%</td>\n",
       "    </tr>\n",
       "    <tr>\n",
       "      <th>2</th>\n",
       "      <td>3</td>\n",
       "      <td>Apple Inc.</td>\n",
       "      <td>AAPL</td>\n",
       "      <td>11.26%</td>\n",
       "    </tr>\n",
       "    <tr>\n",
       "      <th>3</th>\n",
       "      <td>4</td>\n",
       "      <td>Amazon</td>\n",
       "      <td>AMZN</td>\n",
       "      <td>7.90%</td>\n",
       "    </tr>\n",
       "    <tr>\n",
       "      <th>4</th>\n",
       "      <td>5</td>\n",
       "      <td>Meta Platforms</td>\n",
       "      <td>META</td>\n",
       "      <td>6.17%</td>\n",
       "    </tr>\n",
       "    <tr>\n",
       "      <th>5</th>\n",
       "      <td>6</td>\n",
       "      <td>Broadcom Inc.</td>\n",
       "      <td>AVGO</td>\n",
       "      <td>4.48%</td>\n",
       "    </tr>\n",
       "    <tr>\n",
       "      <th>6</th>\n",
       "      <td>7</td>\n",
       "      <td>Alphabet Inc. (Class A)</td>\n",
       "      <td>GOOGL</td>\n",
       "      <td>4.13%</td>\n",
       "    </tr>\n",
       "    <tr>\n",
       "      <th>7</th>\n",
       "      <td>8</td>\n",
       "      <td>Alphabet Inc. (Class C)</td>\n",
       "      <td>GOOG</td>\n",
       "      <td>3.87%</td>\n",
       "    </tr>\n",
       "    <tr>\n",
       "      <th>8</th>\n",
       "      <td>9</td>\n",
       "      <td>Tesla, Inc.</td>\n",
       "      <td>TSLA</td>\n",
       "      <td>3.41%</td>\n",
       "    </tr>\n",
       "    <tr>\n",
       "      <th>9</th>\n",
       "      <td>10</td>\n",
       "      <td>Netflix</td>\n",
       "      <td>NFLX</td>\n",
       "      <td>1.70%</td>\n",
       "    </tr>\n",
       "  </tbody>\n",
       "</table>\n",
       "</div>"
      ],
      "text/plain": [
       "  Rank                  Company Symbol  Weight\n",
       "0    1                   Nvidia   NVDA  13.83%\n",
       "1    2                Microsoft   MSFT  12.62%\n",
       "2    3               Apple Inc.   AAPL  11.26%\n",
       "3    4                   Amazon   AMZN   7.90%\n",
       "4    5           Meta Platforms   META   6.17%\n",
       "5    6            Broadcom Inc.   AVGO   4.48%\n",
       "6    7  Alphabet Inc. (Class A)  GOOGL   4.13%\n",
       "7    8  Alphabet Inc. (Class C)   GOOG   3.87%\n",
       "8    9              Tesla, Inc.   TSLA   3.41%\n",
       "9   10                  Netflix   NFLX   1.70%"
      ]
     },
     "execution_count": 26,
     "metadata": {},
     "output_type": "execute_result"
    }
   ],
   "source": [
    "df_even = df[df.index % 2 == 0].reset_index(drop=True)\n",
    "df_even = df_even.iloc[:, :-3]\n",
    "\n",
    "df_even.head(10)"
   ]
  },
  {
   "cell_type": "code",
   "execution_count": 27,
   "id": "dc678825-c7bd-4c20-bb58-7fbf04d0fbf4",
   "metadata": {},
   "outputs": [
    {
     "data": {
      "text/plain": [
       "0"
      ]
     },
     "execution_count": 27,
     "metadata": {},
     "output_type": "execute_result"
    }
   ],
   "source": [
    "df_even.isna().sum().sum()"
   ]
  },
  {
   "cell_type": "code",
   "execution_count": 29,
   "id": "07046051-3625-4c50-980e-ed0b1dacc84c",
   "metadata": {},
   "outputs": [],
   "source": [
    "df = df_even\n",
    "df['Rank'] = df['Rank'].astype(int)"
   ]
  },
  {
   "cell_type": "code",
   "execution_count": 30,
   "id": "83ba081a-eff2-4bf4-8ea7-c7f1f79616ed",
   "metadata": {},
   "outputs": [
    {
     "name": "stdout",
     "output_type": "stream",
     "text": [
      "<class 'pandas.core.frame.DataFrame'>\n",
      "RangeIndex: 101 entries, 0 to 100\n",
      "Data columns (total 4 columns):\n",
      " #   Column   Non-Null Count  Dtype \n",
      "---  ------   --------------  ----- \n",
      " 0   Rank     101 non-null    int32 \n",
      " 1   Company  101 non-null    object\n",
      " 2   Symbol   101 non-null    object\n",
      " 3   Weight   101 non-null    object\n",
      "dtypes: int32(1), object(3)\n",
      "memory usage: 2.9+ KB\n"
     ]
    }
   ],
   "source": [
    "df.info()"
   ]
  },
  {
   "cell_type": "code",
   "execution_count": 31,
   "id": "5a363402-5bed-41da-8aa7-6ca80b15203d",
   "metadata": {},
   "outputs": [],
   "source": [
    "df.to_csv(data_raw / \"table.csv\")"
   ]
  },
  {
   "cell_type": "markdown",
   "id": "347081e7-261c-4449-b538-f173742378d1",
   "metadata": {},
   "source": [
    "### *Confirming `.env` is not committed*"
   ]
  },
  {
   "cell_type": "code",
   "execution_count": 32,
   "id": "2899247b-4272-40eb-846e-ab3c6c97a88a",
   "metadata": {},
   "outputs": [
    {
     "name": "stdout",
     "output_type": "stream",
     "text": [
      "C:\\Users\\Lenovo\\Jupyter Notebooks\\Bootcamp\\bootcamp_deep_gandhi\n",
      ".env is listed in .gitignore (safe).\n"
     ]
    }
   ],
   "source": [
    "%cd C:\\Users\\Lenovo\\Jupyter Notebooks\\Bootcamp\\bootcamp_deep_gandhi\n",
    "gitignore_path = Path(\".gitignore\")\n",
    "with open(gitignore_path, \"r\") as f:\n",
    "    gitignore_content = f.read().splitlines()\n",
    "\n",
    "if \".env\" in gitignore_content or any(line.strip() == \".env\" for line in gitignore_content):\n",
    "    print(\".env is listed in .gitignore (safe).\")\n",
    "else:\n",
    "    print(\".env is NOT listed in .gitignore!\")"
   ]
  },
  {
   "cell_type": "markdown",
   "id": "a6d15074-1ed2-4f40-b247-00075fe090b4",
   "metadata": {},
   "source": [
    "# **Assumptions and Risks:**\n",
    "- API rate limit of Alpha vantage is 25 requests/day\n",
    "- Website is dynamic and so we wait 20s for it load then scrape\n",
    "- Website may change format, then we need to write new code\n",
    "- Confirmed `.env` is not committed"
   ]
  },
  {
   "cell_type": "code",
   "execution_count": null,
   "id": "ea7b9d4d-773e-4111-bf8a-b4d54a3da55a",
   "metadata": {},
   "outputs": [],
   "source": []
  }
 ],
 "metadata": {
  "kernelspec": {
   "display_name": "Python 3 (ipykernel)",
   "language": "python",
   "name": "python3"
  },
  "language_info": {
   "codemirror_mode": {
    "name": "ipython",
    "version": 3
   },
   "file_extension": ".py",
   "mimetype": "text/x-python",
   "name": "python",
   "nbconvert_exporter": "python",
   "pygments_lexer": "ipython3",
   "version": "3.12.3"
  }
 },
 "nbformat": 4,
 "nbformat_minor": 5
}
