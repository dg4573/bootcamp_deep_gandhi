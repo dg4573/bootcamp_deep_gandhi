{
 "cells": [
  {
   "cell_type": "markdown",
   "id": "7fe4f3a2-0cf4-4909-a154-2f7a8a88700b",
   "metadata": {},
   "source": [
    "# Stage 07: Homework — Outliers + Risk Assumptions"
   ]
  },
  {
   "cell_type": "markdown",
   "id": "40759505-4b37-40a6-8827-a99d97a23d48",
   "metadata": {},
   "source": [
    "### Loading data and a synthetic fallback"
   ]
  },
  {
   "cell_type": "code",
   "execution_count": 1,
   "id": "7aeab58e-4b3a-449a-bdf3-c0e2956b3e63",
   "metadata": {},
   "outputs": [],
   "source": [
    "import pandas as pd\n",
    "import numpy as np\n",
    "from scipy import stats\n",
    "from sklearn.linear_model import LinearRegression\n",
    "from sklearn.metrics import mean_absolute_error, r2_score\n",
    "\n",
    "try:\n",
    "    df = pd.read_csv(\"../data/raw/outliers_homework.csv\")\n",
    "except FileNotFoundError:\n",
    "    # synthetic fallback\n",
    "    np.random.seed(42)\n",
    "    x = np.random.normal(50, 10, 100)\n",
    "    y = 3 * x + np.random.normal(0, 10, 100)\n",
    "    # outliers\n",
    "    x[::10] = x[::10] + np.random.normal(100, 20, 10)\n",
    "    y[::10] = y[::10] + np.random.normal(200, 30, 10)\n",
    "    df = pd.DataFrame({\"x\": x, \"y\": y})\n",
    "    df.to_csv(\"../data/raw/outliers_homework.csv\")"
   ]
  },
  {
   "cell_type": "markdown",
   "id": "88a8f1b6-49f6-4072-8e05-568241f0202d",
   "metadata": {},
   "source": [
    "### Outlier Detection Functions"
   ]
  },
  {
   "cell_type": "code",
   "execution_count": 2,
   "id": "9a5eea62-8ac7-4479-9631-5d1347a7293c",
   "metadata": {},
   "outputs": [
    {
     "data": {
      "text/html": [
       "<div>\n",
       "<style scoped>\n",
       "    .dataframe tbody tr th:only-of-type {\n",
       "        vertical-align: middle;\n",
       "    }\n",
       "\n",
       "    .dataframe tbody tr th {\n",
       "        vertical-align: top;\n",
       "    }\n",
       "\n",
       "    .dataframe thead th {\n",
       "        text-align: right;\n",
       "    }\n",
       "</style>\n",
       "<table border=\"1\" class=\"dataframe\">\n",
       "  <thead>\n",
       "    <tr style=\"text-align: right;\">\n",
       "      <th></th>\n",
       "      <th>x</th>\n",
       "      <th>y</th>\n",
       "      <th>x_outlier_iqr</th>\n",
       "      <th>x_outlier_z</th>\n",
       "    </tr>\n",
       "  </thead>\n",
       "  <tbody>\n",
       "    <tr>\n",
       "      <th>0</th>\n",
       "      <td>162.122889</td>\n",
       "      <td>367.874432</td>\n",
       "      <td>True</td>\n",
       "      <td>False</td>\n",
       "    </tr>\n",
       "    <tr>\n",
       "      <th>1</th>\n",
       "      <td>48.617357</td>\n",
       "      <td>141.645618</td>\n",
       "      <td>False</td>\n",
       "      <td>False</td>\n",
       "    </tr>\n",
       "    <tr>\n",
       "      <th>2</th>\n",
       "      <td>56.476885</td>\n",
       "      <td>166.003511</td>\n",
       "      <td>False</td>\n",
       "      <td>False</td>\n",
       "    </tr>\n",
       "    <tr>\n",
       "      <th>3</th>\n",
       "      <td>65.230299</td>\n",
       "      <td>187.668123</td>\n",
       "      <td>False</td>\n",
       "      <td>False</td>\n",
       "    </tr>\n",
       "    <tr>\n",
       "      <th>4</th>\n",
       "      <td>47.658466</td>\n",
       "      <td>141.362542</td>\n",
       "      <td>False</td>\n",
       "      <td>False</td>\n",
       "    </tr>\n",
       "  </tbody>\n",
       "</table>\n",
       "</div>"
      ],
      "text/plain": [
       "            x           y  x_outlier_iqr  x_outlier_z\n",
       "0  162.122889  367.874432           True        False\n",
       "1   48.617357  141.645618          False        False\n",
       "2   56.476885  166.003511          False        False\n",
       "3   65.230299  187.668123          False        False\n",
       "4   47.658466  141.362542          False        False"
      ]
     },
     "execution_count": 2,
     "metadata": {},
     "output_type": "execute_result"
    }
   ],
   "source": [
    "def detect_outliers_iqr(series: pd.Series) -> pd.Series:\n",
    "    \"\"\"\n",
    "    Detect outliers using the Interquartile Range (IQR) method.\n",
    "    Returns a boolean Series (True = outlier).\n",
    "    \"\"\"\n",
    "    Q1 = series.quantile(0.25)\n",
    "    Q3 = series.quantile(0.75)\n",
    "    IQR = Q3 - Q1\n",
    "    lower_bound = Q1 - 1.5 * IQR\n",
    "    upper_bound = Q3 + 1.5 * IQR\n",
    "    return (series < lower_bound) | (series > upper_bound)\n",
    "\n",
    "def detect_outliers_zscore(series: pd.Series, threshold: float = 3.0) -> pd.Series:\n",
    "    \"\"\"\n",
    "    Detect outliers using Z-score method.\n",
    "    Returns a boolean Series (True = outlier).\n",
    "    \"\"\"\n",
    "    z_scores = np.abs(stats.zscore(series, nan_policy='omit'))\n",
    "    return z_scores > threshold\n",
    "\n",
    "def winsorize_series(series: pd.Series, lower: float = 0.05, upper: float = 0.95) -> pd.Series:\n",
    "    \"\"\"\n",
    "    Winsorize a series by capping values at given quantiles.\n",
    "    \"\"\"\n",
    "    lower_val = series.quantile(lower)\n",
    "    upper_val = series.quantile(upper)\n",
    "    return series.clip(lower=lower_val, upper=upper_val)\n",
    "\n",
    "df[\"x_outlier_iqr\"] = detect_outliers_iqr(df[\"x\"])\n",
    "df[\"x_outlier_z\"] = detect_outliers_zscore(df[\"x\"])\n",
    "df.head()"
   ]
  },
  {
   "cell_type": "markdown",
   "id": "e48f9bb4-13ea-429f-8665-5e2d3156321f",
   "metadata": {},
   "source": [
    "### Sensitivity Analysis"
   ]
  },
  {
   "cell_type": "code",
   "execution_count": 3,
   "id": "d5a7e25b-a405-4a35-bba8-150abe53785a",
   "metadata": {},
   "outputs": [
    {
     "name": "stdout",
     "output_type": "stream",
     "text": [
      "Summary with outliers: {'mean': 60.18884105988628, 'median': 49.958081159522635, 'std': 36.8224271127733}\n",
      "Summary without outliers (IQR): {'mean': 48.65510356279287, 'median': 48.38038361082499, 'std': 9.305238448671824}\n",
      "Summary winsorized: {'mean': 59.210873351047184, 'median': 49.958081159522635, 'std': 32.57822081935611}\n"
     ]
    }
   ],
   "source": [
    "def summarize(series):\n",
    "    return {\n",
    "        \"mean\": series.mean(),\n",
    "        \"median\": series.median(),\n",
    "        \"std\": series.std()\n",
    "    }\n",
    "\n",
    "summary_with_outliers = summarize(df[\"x\"])\n",
    "summary_without_outliers = summarize(df.loc[~df[\"x_outlier_iqr\"], \"x\"])\n",
    "summary_winsorized = summarize(winsorize_series(df[\"x\"]))\n",
    "\n",
    "print(\"Summary with outliers:\", summary_with_outliers)\n",
    "print(\"Summary without outliers (IQR):\", summary_without_outliers)\n",
    "print(\"Summary winsorized:\", summary_winsorized)"
   ]
  },
  {
   "cell_type": "markdown",
   "id": "8de89cfd-81b7-45c5-8ec6-c6317103021b",
   "metadata": {},
   "source": [
    "### Regression Comparison"
   ]
  },
  {
   "cell_type": "code",
   "execution_count": 6,
   "id": "ba5d66ac-2d59-4846-9118-3ce0cfd6fd0d",
   "metadata": {},
   "outputs": [
    {
     "data": {
      "text/html": [
       "<div>\n",
       "<style scoped>\n",
       "    .dataframe tbody tr th:only-of-type {\n",
       "        vertical-align: middle;\n",
       "    }\n",
       "\n",
       "    .dataframe tbody tr th {\n",
       "        vertical-align: top;\n",
       "    }\n",
       "\n",
       "    .dataframe thead th {\n",
       "        text-align: right;\n",
       "    }\n",
       "</style>\n",
       "<table border=\"1\" class=\"dataframe\">\n",
       "  <thead>\n",
       "    <tr style=\"text-align: right;\">\n",
       "      <th></th>\n",
       "      <th>coef</th>\n",
       "      <th>intercept</th>\n",
       "      <th>R2</th>\n",
       "      <th>MAE</th>\n",
       "    </tr>\n",
       "  </thead>\n",
       "  <tbody>\n",
       "    <tr>\n",
       "      <th>With Outliers</th>\n",
       "      <td>1.792374</td>\n",
       "      <td>59.929453</td>\n",
       "      <td>0.904420</td>\n",
       "      <td>13.294565</td>\n",
       "    </tr>\n",
       "    <tr>\n",
       "      <th>Without Outliers (IQR)</th>\n",
       "      <td>2.826005</td>\n",
       "      <td>9.302542</td>\n",
       "      <td>0.890132</td>\n",
       "      <td>7.262705</td>\n",
       "    </tr>\n",
       "    <tr>\n",
       "      <th>Winsorized</th>\n",
       "      <td>2.058692</td>\n",
       "      <td>45.913442</td>\n",
       "      <td>0.933953</td>\n",
       "      <td>12.091178</td>\n",
       "    </tr>\n",
       "  </tbody>\n",
       "</table>\n",
       "</div>"
      ],
      "text/plain": [
       "                            coef  intercept        R2        MAE\n",
       "With Outliers           1.792374  59.929453  0.904420  13.294565\n",
       "Without Outliers (IQR)  2.826005   9.302542  0.890132   7.262705\n",
       "Winsorized              2.058692  45.913442  0.933953  12.091178"
      ]
     },
     "execution_count": 6,
     "metadata": {},
     "output_type": "execute_result"
    }
   ],
   "source": [
    "def fit_and_evaluate(x, y):\n",
    "    model = LinearRegression()\n",
    "    model.fit(x.reshape(-1, 1), y)\n",
    "    y_pred = model.predict(x.reshape(-1, 1))\n",
    "    return {\n",
    "        \"coef\": model.coef_[0],\n",
    "        \"intercept\": model.intercept_,\n",
    "        \"R2\": r2_score(y, y_pred),\n",
    "        \"MAE\": mean_absolute_error(y, y_pred)\n",
    "    }\n",
    "\n",
    "results_with = fit_and_evaluate(df[\"x\"].values, df[\"y\"].values)\n",
    "mask = ~df[\"x_outlier_iqr\"]\n",
    "results_without = fit_and_evaluate(df.loc[mask, \"x\"].values, df.loc[mask, \"y\"].values)\n",
    "\n",
    "x_wins = winsorize_series(df[\"x\"])\n",
    "results_wins = fit_and_evaluate(x_wins.values, df[\"y\"].values)\n",
    "\n",
    "results_df = pd.DataFrame({\"With Outliers\": results_with, \"Without Outliers (IQR)\": results_without, \"Winsorized\": results_wins})\n",
    "results_df = results_df.T\n",
    "results_df"
   ]
  },
  {
   "cell_type": "code",
   "execution_count": 5,
   "id": "baa4950d-c2cf-4455-8d70-03f7f146273f",
   "metadata": {},
   "outputs": [
    {
     "data": {
      "image/png": "[encoded data removed]",
      "text/plain": [
       "<Figure size 800x400 with 1 Axes>"
      ]
     },
     "metadata": {},
     "output_type": "display_data"
    },
    {
     "data": {
      "image/png": "[encoded data removed]",
      "text/plain": [
       "<Figure size 800x400 with 1 Axes>"
      ]
     },
     "metadata": {},
     "output_type": "display_data"
    }
   ],
   "source": [
    "plt.figure(figsize=(8,4))\n",
    "plt.boxplot([df[\"x\"], df.loc[~df[\"x_outlier_iqr\"], \"x\"]], labels=[\"With Outliers\", \"Without Outliers\"])\n",
    "plt.title(\"Boxplot: Effect of Removing Outliers (IQR)\")\n",
    "plt.show()\n",
    "\n",
    "plt.figure(figsize=(8,4))\n",
    "plt.hist(df[\"x\"], bins=30, alpha=0.6, label=\"With Outliers\")\n",
    "plt.hist(winsorize_series(df[\"x\"]), bins=30, alpha=0.6, label=\"Winsorized\")\n",
    "plt.title(\"Histogram: Original vs Winsorized\")\n",
    "plt.legend()\n",
    "plt.show();"
   ]
  },
  {
   "cell_type": "markdown",
   "id": "abecab2e-e4ee-48e9-9b17-b0a0eb87fe64",
   "metadata": {},
   "source": [
    "## Reflection\n",
    "\n",
    "For this assignment, I tested three methods for handling outliers: the IQR rule, Z-score thresholding, and winsorization. I mainly used the IQR method with a threshold of 1.5 × IQR because it is a standard and robust way to flag extreme values without making distributional assumptions. I also experimented with winsorization (5th and 95th percentiles) to keep all data points while reducing the influence of extremes.\n",
    "\n",
    "**Assumptions:**  \n",
    "- The data should be roughly symmetric and not too heavily skewed for the IQR and Z-score methods to make sense.  \n",
    "- Outliers are assumed to be noise or unusual cases that distort results, rather than meaningful signals.  \n",
    "- Winsorization assumes that extreme values are not reliable and should be capped at a reasonable range.\n",
    "\n",
    "**Observed impacts:**  \n",
    "- Summary statistics were highly sensitive to outliers: the mean and standard deviation were pulled upward, while the median stayed more stable.  \n",
    "- In the regression analysis, the slope and intercept were biased when outliers were present, and model fit (R² and MAE) improved after removing or winsorizing outliers.  \n",
    "- Winsorization gave results in between the full-data and outlier-removed versions, keeping more data but reducing distortion.\n",
    "\n",
    "**Risks if assumptions are wrong:**  \n",
    "- If the flagged \"outliers\" are actually valid rare events (for example, genuine extreme returns in finance), removing or capping them could throw away important information.  \n",
    "- Using IQR or Z-score thresholds blindly may miss context-specific factors that explain unusual values.  \n",
    "- Winsorizing may oversimplify the data by hiding real variability.\n",
    "\n",
    "Overall, IQR was effective at detecting outliers, and winsorization was useful as a compromise. The main lesson is that handling outliers always depends on context, and the wrong assumptions can lead to misleading results.\n"
   ]
  },
  {
   "cell_type": "code",
   "execution_count": null,
   "id": "2fb54827-7692-486e-94d6-cd14cbc7f523",
   "metadata": {},
   "outputs": [],
   "source": []
  }
 ],
 "metadata": {
  "kernelspec": {
   "display_name": "Python 3 (ipykernel)",
   "language": "python",
   "name": "python3"
  },
  "language_info": {
   "codemirror_mode": {
    "name": "ipython",
    "version": 3
   },
   "file_extension": ".py",
   "mimetype": "text/x-python",
   "name": "python",
   "nbconvert_exporter": "python",
   "pygments_lexer": "ipython3",
   "version": "3.12.3"
  }
 },
 "nbformat": 4,
 "nbformat_minor": 5
}
