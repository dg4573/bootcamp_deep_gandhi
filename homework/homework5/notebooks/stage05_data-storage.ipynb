{
 "cells": [
  {
   "cell_type": "code",
   "execution_count": 4,
   "id": "1cb598bf-5c80-4935-9674-1c461dd9d4da",
   "metadata": {},
   "outputs": [
    {
     "name": "stdout",
     "output_type": "stream",
     "text": [
      "API KEY Loaded\n",
      "Data Loaded\n"
     ]
    }
   ],
   "source": [
    "from pathlib import Path\n",
    "from dotenv import load_dotenv\n",
    "import os\n",
    "import pandas as pd\n",
    "\n",
    "load_dotenv()\n",
    "API_KEY = os.getenv(\"API_KEY\")\n",
    "data_raw = Path(os.getenv(\"DATA_RAW\"))\n",
    "data_processed = Path(os.getenv(\"DATA_PROCESSED\"))\n",
    "csv_path = data_raw / \"api_pull.csv\"\n",
    "\n",
    "if API_KEY is not None:\n",
    "    print(\"API KEY Loaded\") \n",
    "if csv_path.exists():\n",
    "    print(\"Data Loaded\")"
   ]
  },
  {
   "cell_type": "markdown",
   "id": "0d2b8e04-9ec6-4ca3-bc99-4963fd2d0a35",
   "metadata": {},
   "source": [
    "### Saving csv file to `data/raw` and parquet file to `data/processed`"
   ]
  },
  {
   "cell_type": "code",
   "execution_count": 17,
   "id": "c2d2f0c7-6b18-45f7-91e4-3dc73abe474b",
   "metadata": {},
   "outputs": [
    {
     "name": "stdout",
     "output_type": "stream",
     "text": [
      "Saved both files\n"
     ]
    }
   ],
   "source": [
    "parquet_path = data_processed / \"api_pull.parquet\"\n",
    "\n",
    "df = pd.read_csv(csv_path)\n",
    "\n",
    "if \"Unnamed: 0\" in df.columns:\n",
    "    df = df.drop(columns=[\"Unnamed: 0\"])\n",
    "    \n",
    "df.to_csv(csv_path, index=False)\n",
    "df.to_parquet(parquet_path, index=False)\n",
    "print(\"Saved both files\")"
   ]
  },
  {
   "cell_type": "code",
   "execution_count": 24,
   "id": "651cc06e-98da-4c39-b10d-ffd14e61b9c7",
   "metadata": {},
   "outputs": [],
   "source": [
    "df_csv = pd.read_csv(csv_path)\n",
    "df_parquet = pd.read_parquet(parquet_path)"
   ]
  },
  {
   "cell_type": "markdown",
   "id": "6948ed07-ebfb-48f7-9544-700e42562dd6",
   "metadata": {},
   "source": [
    "### Validation function to check data from both files"
   ]
  },
  {
   "cell_type": "code",
   "execution_count": 23,
   "id": "453694f7-f52f-4cd6-9dce-15aff890cb86",
   "metadata": {},
   "outputs": [
    {
     "data": {
      "text/html": [
       "<div>\n",
       "<style scoped>\n",
       "    .dataframe tbody tr th:only-of-type {\n",
       "        vertical-align: middle;\n",
       "    }\n",
       "\n",
       "    .dataframe tbody tr th {\n",
       "        vertical-align: top;\n",
       "    }\n",
       "\n",
       "    .dataframe thead th {\n",
       "        text-align: right;\n",
       "    }\n",
       "</style>\n",
       "<table border=\"1\" class=\"dataframe\">\n",
       "  <thead>\n",
       "    <tr style=\"text-align: right;\">\n",
       "      <th></th>\n",
       "      <th>check</th>\n",
       "      <th>csv_value</th>\n",
       "      <th>parquet_value</th>\n",
       "      <th>pass</th>\n",
       "      <th>expected</th>\n",
       "    </tr>\n",
       "  </thead>\n",
       "  <tbody>\n",
       "    <tr>\n",
       "      <th>0</th>\n",
       "      <td>shape_match</td>\n",
       "      <td>(1710, 20)</td>\n",
       "      <td>(1710, 20)</td>\n",
       "      <td>True</td>\n",
       "      <td>NaN</td>\n",
       "    </tr>\n",
       "    <tr>\n",
       "      <th>1</th>\n",
       "      <td>dtype[contractID]</td>\n",
       "      <td>object</td>\n",
       "      <td>object</td>\n",
       "      <td>True</td>\n",
       "      <td>object</td>\n",
       "    </tr>\n",
       "    <tr>\n",
       "      <th>2</th>\n",
       "      <td>dtype[symbol]</td>\n",
       "      <td>object</td>\n",
       "      <td>object</td>\n",
       "      <td>True</td>\n",
       "      <td>object</td>\n",
       "    </tr>\n",
       "    <tr>\n",
       "      <th>3</th>\n",
       "      <td>dtype[expiration]</td>\n",
       "      <td>object</td>\n",
       "      <td>object</td>\n",
       "      <td>True</td>\n",
       "      <td>object</td>\n",
       "    </tr>\n",
       "    <tr>\n",
       "      <th>4</th>\n",
       "      <td>dtype[strike]</td>\n",
       "      <td>float64</td>\n",
       "      <td>float64</td>\n",
       "      <td>True</td>\n",
       "      <td>float64</td>\n",
       "    </tr>\n",
       "    <tr>\n",
       "      <th>5</th>\n",
       "      <td>dtype[volume]</td>\n",
       "      <td>int64</td>\n",
       "      <td>int64</td>\n",
       "      <td>True</td>\n",
       "      <td>int64</td>\n",
       "    </tr>\n",
       "    <tr>\n",
       "      <th>6</th>\n",
       "      <td>dtype[implied_volatility]</td>\n",
       "      <td>float64</td>\n",
       "      <td>float64</td>\n",
       "      <td>True</td>\n",
       "      <td>float64</td>\n",
       "    </tr>\n",
       "  </tbody>\n",
       "</table>\n",
       "</div>"
      ],
      "text/plain": [
       "                       check   csv_value parquet_value  pass expected\n",
       "0                shape_match  (1710, 20)    (1710, 20)  True      NaN\n",
       "1          dtype[contractID]      object        object  True   object\n",
       "2              dtype[symbol]      object        object  True   object\n",
       "3          dtype[expiration]      object        object  True   object\n",
       "4              dtype[strike]     float64       float64  True  float64\n",
       "5              dtype[volume]       int64         int64  True    int64\n",
       "6  dtype[implied_volatility]     float64       float64  True  float64"
      ]
     },
     "metadata": {},
     "output_type": "display_data"
    }
   ],
   "source": [
    "import pandas as pd\n",
    "\n",
    "def validate_dataframes(df_csv, df_parquet, critical_cols: dict):\n",
    "    \"\"\"\n",
    "    Validate shape, datatype and if both files contain the same data\n",
    "    \"\"\"\n",
    "    results = []\n",
    "    results.append({\"check\": \"shape_match\",\"csv_value\": df_csv.shape,\"parquet_value\": df_parquet.shape,\"pass\": df_csv.shape == df_parquet.shape})\n",
    "\n",
    "    for col, expected_dtype in critical_cols.items():\n",
    "        csv_dtype = str(df_csv.dtypes.get(col, \"missing\"))\n",
    "        pq_dtype = str(df_parquet.dtypes.get(col, \"missing\"))\n",
    "        pass_check = (csv_dtype == pq_dtype == expected_dtype)\n",
    "        results.append({\"check\": f\"dtype[{col}]\",\"csv_value\": csv_dtype,\"parquet_value\": pq_dtype,\"expected\": expected_dtype, \"pass\": pass_check})\n",
    "\n",
    "    return pd.DataFrame(results)\n",
    "\n",
    "critical_columns = {\n",
    "    \"contractID\": \"object\",\n",
    "    \"symbol\": \"object\",\n",
    "    \"expiration\": \"object\",\n",
    "    \"strike\": \"float64\",\n",
    "    \"volume\": \"int64\",\n",
    "    \"implied_volatility\": \"float64\",\n",
    "}\n",
    "\n",
    "validation_df = validate_dataframes(df_csv, df_parquet, critical_columns)\n",
    "display(validation_df) "
   ]
  },
  {
   "cell_type": "markdown",
   "id": "c2d82f6e-6e05-42f3-9df6-280608429a57",
   "metadata": {},
   "source": [
    "### Utility Functions\r\n",
    "\r\n",
    "#### `write_d)ne`\r\n",
    "Saves a DataFrame to disk.  \r\n",
    "- Routes automatically by file suffix (`.csv` → `to_csv`, `.parquet` → `to_parquet`).  \r\n",
    "- Ensures the parent directory exists before writing.  \r\n",
    "- Raises a clear error if the Parquet engine is missing.  \r\n",
    "\r\n",
    "#### `tataFrame`\r\n",
    "Loads a DataFrame from disk.  \r\n",
    "- Routes automatically by file suffix (`.csv` → `read_csv`, `.parquet` → `read_parquet`).  \r\n",
    "- Raises a clear error for unsupported file types. "
   ]
  },
  {
   "cell_type": "code",
   "execution_count": 28,
   "id": "f8772d85-5eed-4517-8356-46dc9870bcaa",
   "metadata": {},
   "outputs": [
    {
     "name": "stdout",
     "output_type": "stream",
     "text": [
      "Saved CSV\n",
      "Saved Parquet\n"
     ]
    }
   ],
   "source": [
    "import pandas as pd\n",
    "from pathlib import Path\n",
    "\n",
    "def write_df(df, path):\n",
    "    \"\"\"\n",
    "    Save DataFrame to CSV or Parquet depending on file suffix.\n",
    "    Ensures directories exist.\n",
    "    \"\"\"\n",
    "    path = Path(path)\n",
    "    path.parent.mkdir(parents=True, exist_ok=True)\n",
    "\n",
    "    if path.suffix == \".csv\":\n",
    "        df.to_csv(path, index=False)\n",
    "        print(f\"Saved CSV\")\n",
    "    elif path.suffix == \".parquet\":\n",
    "        try:\n",
    "            df.to_parquet(path, index=False)\n",
    "            print(f\"Saved Parquet\")\n",
    "        except ImportError:\n",
    "            print(\"Missing Parquet engine.\")\n",
    "    else:\n",
    "        raise ValueError(f\"Unsupported file type: {path.suffix}\")\n",
    "\n",
    "\n",
    "def read_df(path):\n",
    "    \"\"\"\n",
    "    Load DataFrame from CSV or Parquet depending on file suffix.\n",
    "    \"\"\"\n",
    "    path = Path(path)\n",
    "\n",
    "    if not path.exists():\n",
    "        raise FileNotFoundError(f\"File not found: {path}\")\n",
    "\n",
    "    if path.suffix == \".csv\":\n",
    "        return pd.read_csv(path)\n",
    "    elif path.suffix == \".parquet\":\n",
    "        try:\n",
    "            return pd.read_parquet(path)\n",
    "        except ImportError:\n",
    "            raise ImportError(\"Missing Parquet engine.\")\n",
    "    else:\n",
    "        raise ValueError(f\"Unsupported file type: {path.suffix}\")\n",
    "\n",
    "csv_path = data_raw / \"api_pull.csv\"\n",
    "parquet_path = data_processed / \"api_pull.parquet\"\n",
    "\n",
    "# Write\n",
    "write_df(df, csv_path)\n",
    "write_df(df, parquet_path)\n",
    "\n",
    "# Read\n",
    "df_csv = read_df(csv_path)\n",
    "df_parquet = read_df(parquet_path)"
   ]
  },
  {
   "cell_type": "code",
   "execution_count": null,
   "id": "7fbca82b-f2da-4bec-ad14-137394a9afd9",
   "metadata": {},
   "outputs": [],
   "source": []
  }
 ],
 "metadata": {
  "kernelspec": {
   "display_name": "Python 3 (ipykernel)",
   "language": "python",
   "name": "python3"
  },
  "language_info": {
   "codemirror_mode": {
    "name": "ipython",
    "version": 3
   },
   "file_extension": ".py",
   "mimetype": "text/x-python",
   "name": "python",
   "nbconvert_exporter": "python",
   "pygments_lexer": "ipython3",
   "version": "3.12.3"
  }
 },
 "nbformat": 4,
 "nbformat_minor": 5
}
