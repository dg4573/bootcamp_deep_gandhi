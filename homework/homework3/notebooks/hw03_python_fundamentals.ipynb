{
 "cells": [
  {
   "cell_type": "markdown",
   "id": "e2412661-862b-47ea-a77f-bc9538a2a148",
   "metadata": {},
   "source": [
    "# **Stage 03: Python Fundamentals**\n",
    "\n",
    "In this noteboook, we demonstrate basic Numpy operations and pandas functions using `starter_data.csv` dataset"
   ]
  },
  {
   "cell_type": "code",
   "execution_count": 61,
   "id": "b471dff0-0ab0-4a4e-b5c9-6e3f6b0f06e0",
   "metadata": {},
   "outputs": [],
   "source": [
    "import numpy as np\n",
    "import matplotlib.pyplot as plt\n",
    "import pandas as pd\n",
    "from datetime import datetime\n",
    "import os"
   ]
  },
  {
   "cell_type": "markdown",
   "id": "cb3dc685-b451-4307-8f16-291e93923987",
   "metadata": {},
   "source": [
    "### Change Directory helper function"
   ]
  },
  {
   "cell_type": "code",
   "execution_count": 62,
   "id": "951d02aa-05eb-4c75-9a1e-8ba099dfeb11",
   "metadata": {},
   "outputs": [],
   "source": [
    "def set_homework3_dir():\n",
    "    \"\"\"\n",
    "    Sets the working directory to the homework3 folder.\n",
    "    \"\"\"\n",
    "    path = r\"C:\\Users\\Lenovo\\Jupyter Notebooks\\Bootcamp\\bootcamp_deep_gandhi\\homework\\homework3\"\n",
    "    os.chdir(path)\n",
    "    print(f\"Working directory set to: {os.getcwd()}\")\n",
    "    "
   ]
  },
  {
   "cell_type": "markdown",
   "id": "a9ccb6a6-ae8f-426f-bb57-b0f078d61ffe",
   "metadata": {},
   "source": [
    "## Numpy Basic Operations"
   ]
  },
  {
   "cell_type": "code",
   "execution_count": 13,
   "id": "9c4cf855-c324-4dde-9244-cdd7cc899573",
   "metadata": {},
   "outputs": [
    {
     "name": "stdout",
     "output_type": "stream",
     "text": [
      "Sum of Arrays: [5 7 9]\n",
      "Difference of Arrays: [3 3 3]\n",
      "Dot Product (Element-wise multiplication) of Arrays: [ 4 10 18]\n"
     ]
    }
   ],
   "source": [
    "a = np.array([1,2,3])\n",
    "b = np.array([4,5,6])\n",
    "\n",
    "c = a + b \n",
    "print(f\"Sum of Arrays: {c}\")\n",
    "\n",
    "c = b - a \n",
    "print(f\"Difference of Arrays: {c}\")\n",
    "\n",
    "d = a * b\n",
    "print(f\"Dot Product (Element-wise multiplication) of Arrays: {d}\")"
   ]
  },
  {
   "cell_type": "markdown",
   "id": "bc172bbd-16c2-4452-9ece-cdce526df601",
   "metadata": {},
   "source": [
    "## Loop vs Vectorized Execution"
   ]
  },
  {
   "cell_type": "code",
   "execution_count": 17,
   "id": "7ddf3b13-a0da-4aa4-b56c-fc348081e5b3",
   "metadata": {},
   "outputs": [
    {
     "name": "stdout",
     "output_type": "stream",
     "text": [
      "4 μs ± 63.1 ns per loop (mean ± std. dev. of 7 runs, 100,000 loops each)\n",
      "1.56 ms ± 11.7 μs per loop (mean ± std. dev. of 7 runs, 1,000 loops each)\n"
     ]
    }
   ],
   "source": [
    "def loop_multiply(a, b):\n",
    "    '''\n",
    "    Uses Loop to compute dot product (Element-wise multiplication) of Arrays\n",
    "    '''\n",
    "    result = []\n",
    "    for x, y in zip(a, b):\n",
    "        result.append(x * y)\n",
    "    return result\n",
    "\n",
    "ones_array = np.ones(10000)\n",
    "zeros_array = np.zeros(10000)\n",
    "\n",
    "%timeit product = ones_array * zeros_array\n",
    "%timeit product_loop = loop_multiply(ones_array, zeros_array)"
   ]
  },
  {
   "cell_type": "markdown",
   "id": "ef86d249-487b-4c2f-94e7-6e4c864abaeb",
   "metadata": {},
   "source": [
    "## Pandas Dataset Loading and Inspecting Data"
   ]
  },
  {
   "cell_type": "code",
   "execution_count": 63,
   "id": "ecf3a5ef-15e8-4ebe-83ed-7f88a8647f06",
   "metadata": {},
   "outputs": [
    {
     "name": "stdout",
     "output_type": "stream",
     "text": [
      "Working directory set to: C:\\Users\\Lenovo\\Jupyter Notebooks\\Bootcamp\\bootcamp_deep_gandhi\\homework\\homework3\n"
     ]
    },
    {
     "data": {
      "text/html": [
       "<div>\n",
       "<style scoped>\n",
       "    .dataframe tbody tr th:only-of-type {\n",
       "        vertical-align: middle;\n",
       "    }\n",
       "\n",
       "    .dataframe tbody tr th {\n",
       "        vertical-align: top;\n",
       "    }\n",
       "\n",
       "    .dataframe thead th {\n",
       "        text-align: right;\n",
       "    }\n",
       "</style>\n",
       "<table border=\"1\" class=\"dataframe\">\n",
       "  <thead>\n",
       "    <tr style=\"text-align: right;\">\n",
       "      <th></th>\n",
       "      <th>category</th>\n",
       "      <th>value</th>\n",
       "      <th>date</th>\n",
       "    </tr>\n",
       "  </thead>\n",
       "  <tbody>\n",
       "    <tr>\n",
       "      <th>0</th>\n",
       "      <td>A</td>\n",
       "      <td>10</td>\n",
       "      <td>2025-08-01</td>\n",
       "    </tr>\n",
       "    <tr>\n",
       "      <th>1</th>\n",
       "      <td>B</td>\n",
       "      <td>15</td>\n",
       "      <td>2025-08-02</td>\n",
       "    </tr>\n",
       "    <tr>\n",
       "      <th>2</th>\n",
       "      <td>A</td>\n",
       "      <td>12</td>\n",
       "      <td>2025-08-03</td>\n",
       "    </tr>\n",
       "    <tr>\n",
       "      <th>3</th>\n",
       "      <td>B</td>\n",
       "      <td>18</td>\n",
       "      <td>2025-08-04</td>\n",
       "    </tr>\n",
       "    <tr>\n",
       "      <th>4</th>\n",
       "      <td>C</td>\n",
       "      <td>25</td>\n",
       "      <td>2025-08-05</td>\n",
       "    </tr>\n",
       "    <tr>\n",
       "      <th>5</th>\n",
       "      <td>C</td>\n",
       "      <td>30</td>\n",
       "      <td>2025-08-06</td>\n",
       "    </tr>\n",
       "    <tr>\n",
       "      <th>6</th>\n",
       "      <td>A</td>\n",
       "      <td>11</td>\n",
       "      <td>2025-08-07</td>\n",
       "    </tr>\n",
       "    <tr>\n",
       "      <th>7</th>\n",
       "      <td>B</td>\n",
       "      <td>14</td>\n",
       "      <td>2025-08-08</td>\n",
       "    </tr>\n",
       "    <tr>\n",
       "      <th>8</th>\n",
       "      <td>C</td>\n",
       "      <td>28</td>\n",
       "      <td>2025-08-09</td>\n",
       "    </tr>\n",
       "    <tr>\n",
       "      <th>9</th>\n",
       "      <td>A</td>\n",
       "      <td>13</td>\n",
       "      <td>2025-08-10</td>\n",
       "    </tr>\n",
       "  </tbody>\n",
       "</table>\n",
       "</div>"
      ],
      "text/plain": [
       "  category  value        date\n",
       "0        A     10  2025-08-01\n",
       "1        B     15  2025-08-02\n",
       "2        A     12  2025-08-03\n",
       "3        B     18  2025-08-04\n",
       "4        C     25  2025-08-05\n",
       "5        C     30  2025-08-06\n",
       "6        A     11  2025-08-07\n",
       "7        B     14  2025-08-08\n",
       "8        C     28  2025-08-09\n",
       "9        A     13  2025-08-10"
      ]
     },
     "execution_count": 63,
     "metadata": {},
     "output_type": "execute_result"
    }
   ],
   "source": [
    "set_homework3_dir()\n",
    "df = pd.read_csv(\"data/starter_data.csv\")\n",
    "df.head(10)"
   ]
  },
  {
   "cell_type": "code",
   "execution_count": 39,
   "id": "53af2d64-7330-4a4a-a1be-e1c3da80db71",
   "metadata": {},
   "outputs": [
    {
     "name": "stdout",
     "output_type": "stream",
     "text": [
      "<class 'pandas.core.frame.DataFrame'>\n",
      "RangeIndex: 10 entries, 0 to 9\n",
      "Data columns (total 3 columns):\n",
      " #   Column    Non-Null Count  Dtype \n",
      "---  ------    --------------  ----- \n",
      " 0   category  10 non-null     object\n",
      " 1   value     10 non-null     int64 \n",
      " 2   date      10 non-null     object\n",
      "dtypes: int64(1), object(2)\n",
      "memory usage: 372.0+ bytes\n"
     ]
    }
   ],
   "source": [
    "df.info()"
   ]
  },
  {
   "cell_type": "code",
   "execution_count": 40,
   "id": "76f7e82c-02db-4106-be55-7b84e3614476",
   "metadata": {},
   "outputs": [
    {
     "data": {
      "text/html": [
       "<div>\n",
       "<style scoped>\n",
       "    .dataframe tbody tr th:only-of-type {\n",
       "        vertical-align: middle;\n",
       "    }\n",
       "\n",
       "    .dataframe tbody tr th {\n",
       "        vertical-align: top;\n",
       "    }\n",
       "\n",
       "    .dataframe thead th {\n",
       "        text-align: right;\n",
       "    }\n",
       "</style>\n",
       "<table border=\"1\" class=\"dataframe\">\n",
       "  <thead>\n",
       "    <tr style=\"text-align: right;\">\n",
       "      <th></th>\n",
       "      <th>value</th>\n",
       "    </tr>\n",
       "  </thead>\n",
       "  <tbody>\n",
       "    <tr>\n",
       "      <th>count</th>\n",
       "      <td>10.000000</td>\n",
       "    </tr>\n",
       "    <tr>\n",
       "      <th>mean</th>\n",
       "      <td>17.600000</td>\n",
       "    </tr>\n",
       "    <tr>\n",
       "      <th>std</th>\n",
       "      <td>7.381659</td>\n",
       "    </tr>\n",
       "    <tr>\n",
       "      <th>min</th>\n",
       "      <td>10.000000</td>\n",
       "    </tr>\n",
       "    <tr>\n",
       "      <th>25%</th>\n",
       "      <td>12.250000</td>\n",
       "    </tr>\n",
       "    <tr>\n",
       "      <th>50%</th>\n",
       "      <td>14.500000</td>\n",
       "    </tr>\n",
       "    <tr>\n",
       "      <th>75%</th>\n",
       "      <td>23.250000</td>\n",
       "    </tr>\n",
       "    <tr>\n",
       "      <th>max</th>\n",
       "      <td>30.000000</td>\n",
       "    </tr>\n",
       "  </tbody>\n",
       "</table>\n",
       "</div>"
      ],
      "text/plain": [
       "           value\n",
       "count  10.000000\n",
       "mean   17.600000\n",
       "std     7.381659\n",
       "min    10.000000\n",
       "25%    12.250000\n",
       "50%    14.500000\n",
       "75%    23.250000\n",
       "max    30.000000"
      ]
     },
     "execution_count": 40,
     "metadata": {},
     "output_type": "execute_result"
    }
   ],
   "source": [
    "df.describe()"
   ]
  },
  {
   "cell_type": "markdown",
   "id": "b32959ab-e397-46ad-b2ae-5150b510a63a",
   "metadata": {},
   "source": [
    "## Aggregation and Stats"
   ]
  },
  {
   "cell_type": "code",
   "execution_count": 68,
   "id": "0cd5bef2-58eb-4f24-8d86-ee3b38d7ffde",
   "metadata": {},
   "outputs": [
    {
     "name": "stdout",
     "output_type": "stream",
     "text": [
      "Working directory set to: C:\\Users\\Lenovo\\Jupyter Notebooks\\Bootcamp\\bootcamp_deep_gandhi\\homework\\homework3\n"
     ]
    },
    {
     "data": {
      "text/html": [
       "<div>\n",
       "<style scoped>\n",
       "    .dataframe tbody tr th:only-of-type {\n",
       "        vertical-align: middle;\n",
       "    }\n",
       "\n",
       "    .dataframe tbody tr th {\n",
       "        vertical-align: top;\n",
       "    }\n",
       "\n",
       "    .dataframe thead th {\n",
       "        text-align: right;\n",
       "    }\n",
       "</style>\n",
       "<table border=\"1\" class=\"dataframe\">\n",
       "  <thead>\n",
       "    <tr style=\"text-align: right;\">\n",
       "      <th></th>\n",
       "      <th>Category</th>\n",
       "      <th>Mean</th>\n",
       "      <th>Std</th>\n",
       "    </tr>\n",
       "  </thead>\n",
       "  <tbody>\n",
       "    <tr>\n",
       "      <th>0</th>\n",
       "      <td>A</td>\n",
       "      <td>11.500000</td>\n",
       "      <td>1.290994</td>\n",
       "    </tr>\n",
       "    <tr>\n",
       "      <th>1</th>\n",
       "      <td>B</td>\n",
       "      <td>15.666667</td>\n",
       "      <td>2.081666</td>\n",
       "    </tr>\n",
       "    <tr>\n",
       "      <th>2</th>\n",
       "      <td>C</td>\n",
       "      <td>27.666667</td>\n",
       "      <td>2.516611</td>\n",
       "    </tr>\n",
       "  </tbody>\n",
       "</table>\n",
       "</div>"
      ],
      "text/plain": [
       "  Category       Mean       Std\n",
       "0        A  11.500000  1.290994\n",
       "1        B  15.666667  2.081666\n",
       "2        C  27.666667  2.516611"
      ]
     },
     "execution_count": 68,
     "metadata": {},
     "output_type": "execute_result"
    }
   ],
   "source": [
    "set_homework3_dir()\n",
    "summary = df.groupby('category')['value'].agg(['mean', 'std']).reset_index()\n",
    "summary.columns = ['Category', 'Mean', 'Std']\n",
    "summary.to_csv('data/processed/summary.csv', index=False)\n",
    "summary"
   ]
  },
  {
   "cell_type": "markdown",
   "id": "f79f06f5-6c28-4427-a944-a9c57e629232",
   "metadata": {},
   "source": [
    "## Basic Plot"
   ]
  },
  {
   "cell_type": "code",
   "execution_count": 53,
   "id": "01d9851e-060a-4d61-bdcd-a26b3410f182",
   "metadata": {},
   "outputs": [
    {
     "data": {
      "image/png": "[encoded data removed]",
      "text/plain": [
       "<Figure size 1000x500 with 1 Axes>"
      ]
     },
     "metadata": {},
     "output_type": "display_data"
    },
    {
     "data": {
      "text/plain": [
       "<Figure size 640x480 with 0 Axes>"
      ]
     },
     "metadata": {},
     "output_type": "display_data"
    }
   ],
   "source": [
    "plt.figure(figsize=(10,5))\n",
    "for cat in df['category'].unique():\n",
    "    subset = df[df['category'] == cat]\n",
    "    plt.plot(subset['date'], subset['value'], marker='o', label=cat)\n",
    "\n",
    "plt.xlabel(\"Date\")\n",
    "plt.ylabel(\"Value\")\n",
    "plt.title(\"Values by Category Over Time\")\n",
    "plt.legend()\n",
    "plt.grid(True)\n",
    "plt.show();\n",
    "plt.savefig('data/processed/change_over_time.png');"
   ]
  },
  {
   "cell_type": "markdown",
   "id": "1c230365-88e2-498a-8019-fa80f455794d",
   "metadata": {},
   "source": [
    "## Import Summary Stats function from `src/utils.py`"
   ]
  },
  {
   "cell_type": "code",
   "execution_count": 64,
   "id": "2b9ae131-b973-433f-a534-111fcdb2050a",
   "metadata": {},
   "outputs": [
    {
     "name": "stdout",
     "output_type": "stream",
     "text": [
      "Working directory set to: C:\\Users\\Lenovo\\Jupyter Notebooks\\Bootcamp\\bootcamp_deep_gandhi\\homework\\homework3\n",
      "           value\n",
      "count  10.000000\n",
      "mean   17.600000\n",
      "std     7.381659\n",
      "min    10.000000\n",
      "25%    12.250000\n",
      "50%    14.500000\n",
      "75%    23.250000\n",
      "max    30.000000\n"
     ]
    }
   ],
   "source": [
    "set_homework3_dir()\n",
    "\n",
    "from src.utils import get_summary_stats\n",
    "\n",
    "df = pd.read_csv(\"data/starter_data.csv\")\n",
    "summary = get_summary_stats(df)\n",
    "print(summary)"
   ]
  },
  {
   "cell_type": "code",
   "execution_count": null,
   "id": "d0accf5d-da33-4de9-8fb6-712061c18c44",
   "metadata": {},
   "outputs": [],
   "source": []
  }
 ],
 "metadata": {
  "kernelspec": {
   "display_name": "Python 3 (ipykernel)",
   "language": "python",
   "name": "python3"
  },
  "language_info": {
   "codemirror_mode": {
    "name": "ipython",
    "version": 3
   },
   "file_extension": ".py",
   "mimetype": "text/x-python",
   "name": "python",
   "nbconvert_exporter": "python",
   "pygments_lexer": "ipython3",
   "version": "3.11.13"
  }
 },
 "nbformat": 4,
 "nbformat_minor": 5
}
